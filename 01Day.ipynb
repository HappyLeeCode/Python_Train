{
 "cells": [
  {
   "cell_type": "code",
   "execution_count": 1,
   "id": "d18d553d-3370-472b-87ac-01f34bda3c17",
   "metadata": {},
   "outputs": [
    {
     "name": "stdout",
     "output_type": "stream",
     "text": [
      "Hello World\n"
     ]
    }
   ],
   "source": [
    "print(\"Hello World\")"
   ]
  },
  {
   "cell_type": "code",
   "execution_count": 2,
   "id": "d54fcad1-0966-424d-98af-edc2d57cc6ad",
   "metadata": {},
   "outputs": [],
   "source": [
    "a=2"
   ]
  },
  {
   "cell_type": "code",
   "execution_count": 3,
   "id": "cc6c4c05-32fc-457e-9585-b9b030092307",
   "metadata": {},
   "outputs": [],
   "source": [
    "b=2"
   ]
  },
  {
   "cell_type": "code",
   "execution_count": 4,
   "id": "639cfcfc-5f73-4a9d-9862-8a74e0014109",
   "metadata": {},
   "outputs": [
    {
     "name": "stdout",
     "output_type": "stream",
     "text": [
      "4\n"
     ]
    }
   ],
   "source": [
    "print(a+b)"
   ]
  },
  {
   "cell_type": "code",
   "execution_count": 5,
   "id": "431b7aa2-f682-4550-95e6-63d7e03f1aa4",
   "metadata": {},
   "outputs": [
    {
     "name": "stdout",
     "output_type": "stream",
     "text": [
      "0\n"
     ]
    }
   ],
   "source": [
    "print(a-b)"
   ]
  },
  {
   "cell_type": "code",
   "execution_count": 6,
   "id": "e5155394-cac7-4e1e-bc0c-29cf16c4e84c",
   "metadata": {},
   "outputs": [
    {
     "name": "stdout",
     "output_type": "stream",
     "text": [
      "4\n"
     ]
    }
   ],
   "source": [
    "print(0b100)"
   ]
  },
  {
   "cell_type": "code",
   "execution_count": 7,
   "id": "75348474-82c2-4ed2-80bc-3fff6785935d",
   "metadata": {},
   "outputs": [
    {
     "name": "stdout",
     "output_type": "stream",
     "text": [
      "1.2345\n"
     ]
    }
   ],
   "source": [
    "print(123.45e-2)"
   ]
  },
  {
   "cell_type": "code",
   "execution_count": 8,
   "id": "2fb0991e-4c53-4cf4-b9b9-8cddefdc6183",
   "metadata": {},
   "outputs": [
    {
     "data": {
      "text/plain": [
       "'abc'"
      ]
     },
     "execution_count": 8,
     "metadata": {},
     "output_type": "execute_result"
    }
   ],
   "source": [
    "#字符串型\n",
    "'abc'"
   ]
  },
  {
   "cell_type": "code",
   "execution_count": 9,
   "id": "812e11c0-9362-4e33-9d10-8b1c1d262ca8",
   "metadata": {},
   "outputs": [
    {
     "name": "stdout",
     "output_type": "stream",
     "text": [
      "True\n"
     ]
    }
   ],
   "source": [
    "#bool 布尔值\n",
    "true_bool =True\n",
    "print(true_bool)"
   ]
  },
  {
   "cell_type": "code",
   "execution_count": 10,
   "id": "b40dfd1b-9d82-459d-90f0-2ea3e1c0011b",
   "metadata": {},
   "outputs": [
    {
     "name": "stdout",
     "output_type": "stream",
     "text": [
      "<class 'int'>\n",
      "<class 'float'>\n",
      "<class 'str'>\n",
      "<class 'bool'>\n"
     ]
    }
   ],
   "source": [
    "#常用变量和类型\n",
    "a = 100\n",
    "b = 123.45\n",
    "c = \"hello\"\n",
    "d = True\n",
    "print(type(a))\n",
    "print(type(b))\n",
    "print(type(c))\n",
    "print(type(d))"
   ]
  },
  {
   "cell_type": "code",
   "execution_count": 11,
   "id": "2ab11eee-b108-4605-b10f-6615fcb38b82",
   "metadata": {},
   "outputs": [
    {
     "data": {
      "text/plain": [
       "0"
      ]
     },
     "execution_count": 11,
     "metadata": {},
     "output_type": "execute_result"
    }
   ],
   "source": [
    "num1 = 0b010110\n",
    "num2 = 0b101001\n",
    "num1 & num2"
   ]
  },
  {
   "cell_type": "code",
   "execution_count": 12,
   "id": "9484471a-d90c-4d47-8fa3-0f2fcf194b0f",
   "metadata": {},
   "outputs": [
    {
     "name": "stdin",
     "output_type": "stream",
     "text": [
      "请输入华氏温度： 100\n"
     ]
    },
    {
     "name": "stdout",
     "output_type": "stream",
     "text": [
      "华氏温度是37.77777777777778\n"
     ]
    }
   ],
   "source": [
    "# C = (F -32)/1.8\n",
    "f = float(input('请输入华氏温度：'))\n",
    "c = (f-32)/1.8\n",
    "print(f'华氏温度是{c}')"
   ]
  },
  {
   "cell_type": "code",
   "execution_count": 13,
   "id": "147a5063-4953-4669-b32b-4f18801a334c",
   "metadata": {},
   "outputs": [
    {
     "name": "stdin",
     "output_type": "stream",
     "text": [
      "请输入一个年份： 2024\n"
     ]
    },
    {
     "name": "stdout",
     "output_type": "stream",
     "text": [
      "True\n"
     ]
    }
   ],
   "source": [
    "#输入一个年份，判断是否是闰年\n",
    "#输入年份，能被4但不能被100整除，或者可以被400整除的年份 为闰年\n",
    "year = int(input('请输入一个年份：'))\n",
    "result = ((year%4==0)and(year%100!=0))or(year%400==0)\n",
    "print(result)"
   ]
  }
 ],
 "metadata": {
  "kernelspec": {
   "display_name": "Python 3 (ipykernel)",
   "language": "python",
   "name": "python3"
  },
  "language_info": {
   "codemirror_mode": {
    "name": "ipython",
    "version": 3
   },
   "file_extension": ".py",
   "mimetype": "text/x-python",
   "name": "python",
   "nbconvert_exporter": "python",
   "pygments_lexer": "ipython3",
   "version": "3.11.3"
  }
 },
 "nbformat": 4,
 "nbformat_minor": 5
}
