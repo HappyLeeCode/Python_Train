{
 "cells": [
  {
   "cell_type": "code",
   "execution_count": 1,
   "id": "5a0e7e62-3591-456e-b90a-9f2156db88e1",
   "metadata": {},
   "outputs": [],
   "source": [
    "# DAY3 常用的数据结构 "
   ]
  },
  {
   "cell_type": "code",
   "execution_count": 2,
   "id": "1802358e-a1f2-4b79-afa7-71c324096c0a",
   "metadata": {},
   "outputs": [
    {
     "name": "stdout",
     "output_type": "stream",
     "text": [
      "1点出现了1027次\n",
      "2点出现了1007次\n",
      "3点出现了972次\n",
      "4点出现了1008次\n",
      "5点出现了1031次\n",
      "6点出现了955次\n"
     ]
    }
   ],
   "source": [
    "\"\"\"\n",
    "将一颗色子掷6000次，统计每种点数出现的次数\n",
    "提示：我们可以用 1 到 6 均匀分布的随机数来模拟掷色子，然后用6个变量分别记录每个点数出现的次数。\n",
    "\n",
    "\"\"\"\n",
    "import random\n",
    "num1 = 0\n",
    "num2 = 0\n",
    "num3 = 0\n",
    "num4 = 0\n",
    "num5 = 0\n",
    "num6 = 0\n",
    "for _ in range(6000):\n",
    "    face = random.randrange(1,7)\n",
    "    if face == 1:\n",
    "        num1 += 1\n",
    "    elif face == 2:\n",
    "        num2 += 1\n",
    "    elif face == 3:\n",
    "        num3 += 1\n",
    "    elif face == 4:\n",
    "        num4 += 1\n",
    "    elif face == 5:\n",
    "        num5 += 1\n",
    "    elif face == 6:\n",
    "        num6 += 1\n",
    "print(f'1点出现了{num1}次')\n",
    "print(f'2点出现了{num2}次')\n",
    "print(f'3点出现了{num3}次')\n",
    "print(f'4点出现了{num4}次')\n",
    "print(f'5点出现了{num5}次')\n",
    "print(f'6点出现了{num6}次')"
   ]
  },
  {
   "cell_type": "code",
   "execution_count": 3,
   "id": "e932491c-a97c-4a55-b649-22c5690388b8",
   "metadata": {},
   "outputs": [],
   "source": [
    "# 列表\n",
    "lists1 = [1,2,3,4,5]\n",
    "lists2 = ['red','green','blue']\n",
    "lists3 = [1,2,3,4,5]"
   ]
  },
  {
   "cell_type": "code",
   "execution_count": 4,
   "id": "4439ee2e-39ac-4908-ba17-ebc5be67a0b9",
   "metadata": {},
   "outputs": [
    {
     "data": {
      "text/plain": [
       "list"
      ]
     },
     "execution_count": 4,
     "metadata": {},
     "output_type": "execute_result"
    }
   ],
   "source": [
    "type(lists1)"
   ]
  },
  {
   "cell_type": "code",
   "execution_count": 5,
   "id": "47df31fd-4f57-49f2-b998-6e11f31d1f52",
   "metadata": {},
   "outputs": [
    {
     "data": {
      "text/plain": [
       "['h', 'e', 'l', 'l', 'o']"
      ]
     },
     "execution_count": 5,
     "metadata": {},
     "output_type": "execute_result"
    }
   ],
   "source": [
    "list('hello')"
   ]
  },
  {
   "cell_type": "code",
   "execution_count": 6,
   "id": "6a6b1be0-6f2c-4816-8e1b-b8e03a668390",
   "metadata": {},
   "outputs": [
    {
     "data": {
      "text/plain": [
       "[1, 2, 3, 4, 5, 6, 7, 8, 9, 10]"
      ]
     },
     "execution_count": 6,
     "metadata": {},
     "output_type": "execute_result"
    }
   ],
   "source": [
    "list(range(1,11))"
   ]
  },
  {
   "cell_type": "code",
   "execution_count": 7,
   "id": "c9ea9e34-4334-49d1-9ac0-133bfaf37309",
   "metadata": {},
   "outputs": [
    {
     "name": "stdout",
     "output_type": "stream",
     "text": [
      "[1, 2, 3, 4, 5, 'red', 'green', 'blue']\n"
     ]
    }
   ],
   "source": [
    "# 列表的运算\n",
    "print(lists1+lists2)"
   ]
  },
  {
   "cell_type": "code",
   "execution_count": 8,
   "id": "6cf4395a-0ce8-4e2f-816c-67d0c2b2a114",
   "metadata": {},
   "outputs": [
    {
     "name": "stdout",
     "output_type": "stream",
     "text": [
      "[1, 2, 3, 4, 5, 1, 2, 3, 4, 5, 1, 2, 3, 4, 5]\n"
     ]
    }
   ],
   "source": [
    "print(lists1*3)"
   ]
  },
  {
   "cell_type": "code",
   "execution_count": 9,
   "id": "6c81d3ce-e802-4a92-8042-365d0e46ba39",
   "metadata": {},
   "outputs": [
    {
     "name": "stdout",
     "output_type": "stream",
     "text": [
      "True\n"
     ]
    }
   ],
   "source": [
    "# in or not in\n",
    "a=5\n",
    "print(a in lists1)"
   ]
  },
  {
   "cell_type": "code",
   "execution_count": 10,
   "id": "4774c96d-c241-4252-8d06-763d998f0fdb",
   "metadata": {},
   "outputs": [
    {
     "name": "stdout",
     "output_type": "stream",
     "text": [
      "1\n",
      "5\n",
      "1\n"
     ]
    }
   ],
   "source": [
    "# 列表的索引 index\n",
    "print(lists1[0])\n",
    "print(lists1[-1])\n",
    "print(lists1[-5])\n",
    "\n",
    "# print(lists1[5]) 出错 IndexError: list index out of range"
   ]
  },
  {
   "cell_type": "code",
   "execution_count": 11,
   "id": "350c814b-6eda-47d4-b8bd-ea05f5d5063b",
   "metadata": {},
   "outputs": [
    {
     "name": "stdout",
     "output_type": "stream",
     "text": [
      "[1, 2, 3, 4, 5, 'red', 'green', 'blue']\n"
     ]
    }
   ],
   "source": [
    "lists0 = lists1+lists2\n",
    "print(lists0)"
   ]
  },
  {
   "cell_type": "code",
   "execution_count": 12,
   "id": "5d556892-e308-4c0c-bcdc-c92932315074",
   "metadata": {},
   "outputs": [
    {
     "data": {
      "text/plain": [
       "[1, 2, 3]"
      ]
     },
     "execution_count": 12,
     "metadata": {},
     "output_type": "execute_result"
    }
   ],
   "source": [
    "lists0[0:3]"
   ]
  },
  {
   "cell_type": "code",
   "execution_count": 13,
   "id": "a6d6bbba-459f-44ec-a280-ac59a5f099f6",
   "metadata": {},
   "outputs": [
    {
     "data": {
      "text/plain": [
       "[1, 2, 3, 4, 5]"
      ]
     },
     "execution_count": 13,
     "metadata": {},
     "output_type": "execute_result"
    }
   ],
   "source": [
    "lists0[:5]"
   ]
  },
  {
   "cell_type": "code",
   "execution_count": 14,
   "id": "704cfc91-6d91-44d3-b00b-26dcddd4b639",
   "metadata": {},
   "outputs": [
    {
     "data": {
      "text/plain": [
       "[1, 3, 5]"
      ]
     },
     "execution_count": 14,
     "metadata": {},
     "output_type": "execute_result"
    }
   ],
   "source": [
    "lists0[0:5:2] #步长"
   ]
  },
  {
   "cell_type": "code",
   "execution_count": 15,
   "id": "87db863f-2fe9-4462-b85d-b1ceb0db05df",
   "metadata": {},
   "outputs": [
    {
     "name": "stdout",
     "output_type": "stream",
     "text": [
      "False\n"
     ]
    }
   ],
   "source": [
    "nums1 = [1, 2 ,3]\n",
    "nums2 = [3, 2 ,1]\n",
    "print(nums1==nums2)"
   ]
  },
  {
   "cell_type": "code",
   "execution_count": 16,
   "id": "f6b9584d-212a-42d5-813a-6d1a2308896f",
   "metadata": {},
   "outputs": [
    {
     "name": "stdout",
     "output_type": "stream",
     "text": [
      "True\n"
     ]
    }
   ],
   "source": [
    "print(nums1 < nums2)"
   ]
  },
  {
   "cell_type": "code",
   "execution_count": 17,
   "id": "898f141f-28dc-470a-9177-c07cee40b218",
   "metadata": {},
   "outputs": [
    {
     "data": {
      "text/plain": [
       "3"
      ]
     },
     "execution_count": 17,
     "metadata": {},
     "output_type": "execute_result"
    }
   ],
   "source": [
    "len(nums1)"
   ]
  },
  {
   "cell_type": "code",
   "execution_count": 18,
   "id": "219c4715-cdda-4e08-8b1c-2ae9c7ce5b4b",
   "metadata": {},
   "outputs": [
    {
     "name": "stdout",
     "output_type": "stream",
     "text": [
      "python\n",
      "java\n",
      "php\n",
      "c\n"
     ]
    }
   ],
   "source": [
    "languages = ['python', 'java', 'php', 'c']\n",
    "for index in range(len(languages)):\n",
    "    print(languages[index])"
   ]
  },
  {
   "cell_type": "code",
   "execution_count": 19,
   "id": "feda0609-c5ca-4945-acf4-4d8d93a0a7df",
   "metadata": {},
   "outputs": [
    {
     "name": "stdout",
     "output_type": "stream",
     "text": [
      "python\n",
      "java\n",
      "php\n",
      "c\n"
     ]
    }
   ],
   "source": [
    "for language in languages:\n",
    "    print(language)"
   ]
  },
  {
   "cell_type": "code",
   "execution_count": 20,
   "id": "a8514e64-2f7f-4458-907a-4b66348b918a",
   "metadata": {},
   "outputs": [
    {
     "name": "stdout",
     "output_type": "stream",
     "text": [
      "点出现了987次\n",
      "点出现了991次\n",
      "点出现了955次\n",
      "点出现了1057次\n",
      "点出现了1009次\n",
      "点出现了1001次\n"
     ]
    }
   ],
   "source": [
    "\"\"\"\n",
    "重写：将一颗色子掷6000次，统计每种点数出现的次数\n",
    "提示：利用数据结构\n",
    "\n",
    "\"\"\"\n",
    "import random\n",
    "\n",
    "counters = [0] * 6\n",
    "\n",
    "for _ in range(6000):\n",
    "    face = random.randrange(1,7)\n",
    "    counters[face-1]+=1          #列表索引从0开始\n",
    "\n",
    "# 输出每种点数的计数结果\n",
    "for face in range(1,7):\n",
    "    print(f'点出现了{counters[face-1]}次')"
   ]
  },
  {
   "cell_type": "code",
   "execution_count": 21,
   "id": "6ff31685-bcf6-43f3-a3b8-014e702c3894",
   "metadata": {},
   "outputs": [
    {
     "data": {
      "text/plain": [
       "5"
      ]
     },
     "execution_count": 21,
     "metadata": {},
     "output_type": "execute_result"
    }
   ],
   "source": [
    "# 列表的方法\n",
    "\n",
    "# 可变\n",
    "lists1.pop()"
   ]
  },
  {
   "cell_type": "code",
   "execution_count": 22,
   "id": "890cdeea-f9ea-41eb-b63e-90ac7e31403b",
   "metadata": {},
   "outputs": [
    {
     "data": {
      "text/plain": [
       "['python', 'java', 'php', 'c']"
      ]
     },
     "execution_count": 22,
     "metadata": {},
     "output_type": "execute_result"
    }
   ],
   "source": [
    "languages"
   ]
  },
  {
   "cell_type": "code",
   "execution_count": 23,
   "id": "d657b6ae-422c-4ddf-b067-7cb7e3ef1aca",
   "metadata": {},
   "outputs": [],
   "source": [
    "# 列表增加元素\n",
    "languages.append(\"C++\")"
   ]
  },
  {
   "cell_type": "code",
   "execution_count": 24,
   "id": "62cfd023-0bd9-4408-a9f3-54723d55b74f",
   "metadata": {},
   "outputs": [
    {
     "data": {
      "text/plain": [
       "['python', 'java', 'php', 'c', 'C++']"
      ]
     },
     "execution_count": 24,
     "metadata": {},
     "output_type": "execute_result"
    }
   ],
   "source": [
    "languages"
   ]
  },
  {
   "cell_type": "code",
   "execution_count": 25,
   "id": "52a56666-8322-4e75-b068-da2238bd1579",
   "metadata": {},
   "outputs": [],
   "source": [
    "languages.insert(1,\"sql\")"
   ]
  },
  {
   "cell_type": "code",
   "execution_count": 26,
   "id": "4e6edd66-7d42-47f0-ab87-9156d2e06435",
   "metadata": {},
   "outputs": [
    {
     "data": {
      "text/plain": [
       "['python', 'sql', 'java', 'php', 'c', 'C++']"
      ]
     },
     "execution_count": 26,
     "metadata": {},
     "output_type": "execute_result"
    }
   ],
   "source": [
    "languages"
   ]
  },
  {
   "cell_type": "code",
   "execution_count": 27,
   "id": "4d72fb4d-b6b1-4661-8fd4-e3ceade8a2d0",
   "metadata": {},
   "outputs": [
    {
     "name": "stdout",
     "output_type": "stream",
     "text": [
      "['python', 'sql', 'java', 'c', 'C++']\n"
     ]
    }
   ],
   "source": [
    "# 列表删除元素\n",
    "languages.remove(\"php\")\n",
    "print(languages)"
   ]
  },
  {
   "cell_type": "code",
   "execution_count": 28,
   "id": "636c5485-dd8d-4432-9b77-be56ad48d39b",
   "metadata": {},
   "outputs": [
    {
     "name": "stdout",
     "output_type": "stream",
     "text": [
      "['python', 'sql', 'java', 'c', 'C++']\n"
     ]
    }
   ],
   "source": [
    "# 先使用 if 判断元素是否在列表内再执行删除操作\n",
    "# 健壮性，鲁棒性\n",
    "if 'php' in languages:      \n",
    "    languages.remove(\"php\")\n",
    "print(languages)"
   ]
  },
  {
   "cell_type": "code",
   "execution_count": 29,
   "id": "515f9dbb-2f18-4e04-8e95-dd1d1b53ccf6",
   "metadata": {},
   "outputs": [
    {
     "data": {
      "text/plain": [
       "['sql', 'java', 'c', 'C++']"
      ]
     },
     "execution_count": 29,
     "metadata": {},
     "output_type": "execute_result"
    }
   ],
   "source": [
    "languages.pop(0)\n",
    "languages"
   ]
  },
  {
   "cell_type": "code",
   "execution_count": 30,
   "id": "a28ca8c5-45ac-4b10-9076-014e74126409",
   "metadata": {},
   "outputs": [
    {
     "data": {
      "text/plain": [
       "['sql', 'java', 'C++']"
      ]
     },
     "execution_count": 30,
     "metadata": {},
     "output_type": "execute_result"
    }
   ],
   "source": [
    "languages.pop(2)\n",
    "languages"
   ]
  },
  {
   "cell_type": "code",
   "execution_count": 31,
   "id": "b9bdc964-ad01-4705-8b5d-c8715282c111",
   "metadata": {},
   "outputs": [
    {
     "data": {
      "text/plain": [
       "['sql', 'java', 'c', 'C++', 'c', 'c']"
      ]
     },
     "execution_count": 31,
     "metadata": {},
     "output_type": "execute_result"
    }
   ],
   "source": [
    "languages.insert(2,\"c\")\n",
    "languages.insert(4,\"c\")\n",
    "languages.insert(5,\"c\")\n",
    "languages"
   ]
  },
  {
   "cell_type": "code",
   "execution_count": 32,
   "id": "62daec27-fbc8-41fd-ab72-003e8cef2abb",
   "metadata": {},
   "outputs": [
    {
     "data": {
      "text/plain": [
       "2"
      ]
     },
     "execution_count": 32,
     "metadata": {},
     "output_type": "execute_result"
    }
   ],
   "source": [
    "# 元素的频次和位置\n",
    "languages.index('c')"
   ]
  },
  {
   "cell_type": "code",
   "execution_count": 33,
   "id": "6af13f7b-0762-41a7-a6b7-0e06fe3c9329",
   "metadata": {},
   "outputs": [
    {
     "data": {
      "text/plain": [
       "3"
      ]
     },
     "execution_count": 33,
     "metadata": {},
     "output_type": "execute_result"
    }
   ],
   "source": [
    "languages.count('c')"
   ]
  },
  {
   "cell_type": "code",
   "execution_count": 34,
   "id": "57bfab3c-fcb6-4fd9-a038-071e21a37591",
   "metadata": {},
   "outputs": [
    {
     "name": "stdout",
     "output_type": "stream",
     "text": [
      "代码耗时为0.5626258850097656\n"
     ]
    }
   ],
   "source": [
    "# 生成一个列表，包含1-100所有能被三整除的数字\n",
    "import time\n",
    "start = time.time()\n",
    "nums = []\n",
    "for i in range(1,10000000):\n",
    "    if i%3 == 0:\n",
    "        nums.append(i)\n",
    "end = time.time()\n",
    "print(f\"代码耗时为{end - start}\")\n",
    "#print(nums)"
   ]
  },
  {
   "cell_type": "code",
   "execution_count": 35,
   "id": "b88fe334-97a0-444e-bf9b-8dd9b4baa45a",
   "metadata": {},
   "outputs": [
    {
     "name": "stdout",
     "output_type": "stream",
     "text": [
      "代码耗时为0.37948131561279297\n"
     ]
    }
   ],
   "source": [
    "# 列表推导\n",
    "import time\n",
    "start = time.time()\n",
    "items = [i for i in range(1,10000000) if i%3 ==0]\n",
    "end = time.time()\n",
    "print(f\"代码耗时为{end - start}\")\n",
    "#print(items)"
   ]
  },
  {
   "cell_type": "code",
   "execution_count": 36,
   "id": "a8fbd143-3eb1-45f0-b11d-e1915968a964",
   "metadata": {},
   "outputs": [],
   "source": [
    "items1 = [i for i in range(1,10)]"
   ]
  },
  {
   "cell_type": "code",
   "execution_count": 37,
   "id": "c6bf05ab-ff98-43f2-9a18-55268cf592c8",
   "metadata": {},
   "outputs": [
    {
     "name": "stdout",
     "output_type": "stream",
     "text": [
      "[1, 2, 3, 4, 5, 6, 7, 8, 9]\n"
     ]
    }
   ],
   "source": [
    "print(items1)"
   ]
  },
  {
   "cell_type": "code",
   "execution_count": 38,
   "id": "e5b181b2-6539-4365-9321-afa1fe8f725c",
   "metadata": {},
   "outputs": [
    {
     "name": "stdout",
     "output_type": "stream",
     "text": [
      "[1, 4, 9, 16, 25, 36, 49, 64, 81]\n"
     ]
    }
   ],
   "source": [
    "items2 = [num**2 for num in items1]\n",
    "print(items2)"
   ]
  },
  {
   "cell_type": "code",
   "execution_count": 39,
   "id": "eb634b58-0e61-4374-9815-f5fa3dd953c3",
   "metadata": {},
   "outputs": [
    {
     "name": "stdout",
     "output_type": "stream",
     "text": [
      "[1, 2, 3]\n"
     ]
    }
   ],
   "source": [
    "# 列表嵌套\n",
    "lists1 = [[1,2,3],[4,5,6],[7,8,9]]\n",
    "print(lists1[0])"
   ]
  },
  {
   "cell_type": "code",
   "execution_count": 40,
   "id": "3ceba5de-99f5-4657-a071-a0735636d165",
   "metadata": {},
   "outputs": [
    {
     "name": "stdout",
     "output_type": "stream",
     "text": [
      "1\n"
     ]
    }
   ],
   "source": [
    "print(lists1[0][0])"
   ]
  },
  {
   "cell_type": "code",
   "execution_count": 41,
   "id": "00fedfcc-ad94-40f9-95c4-263db3effe73",
   "metadata": {},
   "outputs": [
    {
     "name": "stdout",
     "output_type": "stream",
     "text": [
      "<class 'tuple'>\n"
     ]
    }
   ],
   "source": [
    "# 元组\n",
    "tup1 = (1,2,3)\n",
    "print(type(tup1))"
   ]
  },
  {
   "cell_type": "code",
   "execution_count": 42,
   "id": "94128724-e4aa-4d05-b7ed-fe74dadb3846",
   "metadata": {},
   "outputs": [],
   "source": [
    "# tup1[0] =3 元组的元素是不可以修改的"
   ]
  },
  {
   "cell_type": "code",
   "execution_count": 43,
   "id": "15ad7f6c-4676-40d7-beca-1c58e62d4e8a",
   "metadata": {},
   "outputs": [
    {
     "name": "stdout",
     "output_type": "stream",
     "text": [
      "wust\n"
     ]
    }
   ],
   "source": [
    "tup1 =(\"wust\", 3, 3.182)\n",
    "print(tup1[0])"
   ]
  },
  {
   "cell_type": "code",
   "execution_count": 44,
   "id": "f05f4125-a3b5-4291-a566-651d4ad1a465",
   "metadata": {},
   "outputs": [
    {
     "name": "stdout",
     "output_type": "stream",
     "text": [
      "<class 'list'>\n"
     ]
    }
   ],
   "source": [
    "list1 = []\n",
    "print(type(list1))"
   ]
  },
  {
   "cell_type": "code",
   "execution_count": 45,
   "id": "124bff52-b027-418e-9840-0ef3a0637020",
   "metadata": {},
   "outputs": [
    {
     "name": "stdout",
     "output_type": "stream",
     "text": [
      "<class 'tuple'>\n"
     ]
    }
   ],
   "source": [
    "tup = ()\n",
    "print(type(tup))"
   ]
  },
  {
   "cell_type": "code",
   "execution_count": 46,
   "id": "9ddd6f28-7a21-4266-b009-8fe205526994",
   "metadata": {},
   "outputs": [
    {
     "name": "stdout",
     "output_type": "stream",
     "text": [
      "<class 'int'>\n"
     ]
    }
   ],
   "source": [
    "tup1 = (1)\n",
    "print(type(tup1))"
   ]
  },
  {
   "cell_type": "code",
   "execution_count": 47,
   "id": "15f9878a-d9cb-418a-9c1f-9239895488f5",
   "metadata": {},
   "outputs": [
    {
     "name": "stdout",
     "output_type": "stream",
     "text": [
      "<class 'tuple'>\n"
     ]
    }
   ],
   "source": [
    "tup1 = (1,)\n",
    "print(type(tup1))"
   ]
  },
  {
   "cell_type": "code",
   "execution_count": 48,
   "id": "b14d1d8f-5313-47d8-89fa-3790f6b8a1a8",
   "metadata": {},
   "outputs": [
    {
     "name": "stdout",
     "output_type": "stream",
     "text": [
      "<class 'tuple'>\n"
     ]
    }
   ],
   "source": [
    "# 打包\n",
    "tup2 = 1,2,3\n",
    "print(type(tup2))"
   ]
  },
  {
   "cell_type": "code",
   "execution_count": 49,
   "id": "e1ff1c2b-1dc2-4540-bdf8-2f6f07de9293",
   "metadata": {},
   "outputs": [
    {
     "name": "stdout",
     "output_type": "stream",
     "text": [
      "a is 1\n"
     ]
    }
   ],
   "source": [
    "# 解包\n",
    "a, b, c = tup2 \n",
    "print(f\"a is {a}\")"
   ]
  },
  {
   "cell_type": "code",
   "execution_count": 50,
   "id": "7f811da4-be69-4761-bf2a-778ea066f77f",
   "metadata": {},
   "outputs": [],
   "source": [
    "# 列表不可以放在元组里面"
   ]
  },
  {
   "cell_type": "code",
   "execution_count": 51,
   "id": "eda8db68-4987-4bbb-889c-4afc59d6add9",
   "metadata": {},
   "outputs": [],
   "source": [
    "a = \"wust\"\n",
    "b = \"ict\"\n",
    "a, b = b, a"
   ]
  },
  {
   "cell_type": "code",
   "execution_count": 52,
   "id": "4df52569-2b58-476f-b909-ab2a15fc0794",
   "metadata": {},
   "outputs": [
    {
     "name": "stdout",
     "output_type": "stream",
     "text": [
      "I can get it!\n"
     ]
    }
   ],
   "source": [
    "# 字符串\n",
    "\n",
    "s1 = \"I can get it!\"\n",
    "print(s1)"
   ]
  },
  {
   "cell_type": "code",
   "execution_count": 53,
   "id": "e5f0f9bd-69d7-4356-b792-78337efc08e4",
   "metadata": {},
   "outputs": [
    {
     "name": "stdout",
     "output_type": "stream",
     "text": [
      "ead \\is \time \to \n",
      "ow\n"
     ]
    }
   ],
   "source": [
    "# 转义字符\n",
    "s1 = \"\\it \\is \\time \\to \\read \\now\"\n",
    "print(s1)"
   ]
  },
  {
   "cell_type": "code",
   "execution_count": 54,
   "id": "2ab90be9-bf51-485a-afe4-019fe603c60f",
   "metadata": {},
   "outputs": [
    {
     "name": "stdout",
     "output_type": "stream",
     "text": [
      "\\it \\is \\time \\to \\read \\now\n"
     ]
    }
   ],
   "source": [
    "# 使用r，不执行转义字符 \n",
    "s1 = r\"\\it \\is \\time \\to \\read \\now\"\n",
    "print(s1)"
   ]
  },
  {
   "cell_type": "code",
   "execution_count": 55,
   "id": "0fd97726-17cf-47b5-91cd-3288a27255f3",
   "metadata": {},
   "outputs": [
    {
     "name": "stdout",
     "output_type": "stream",
     "text": [
      "h\n",
      "e\n",
      "l\n",
      "l\n",
      "o\n"
     ]
    }
   ],
   "source": [
    "# 字符串乘法，加法\n",
    "# 字符串的比较运算\n",
    "# 字符串的遍历\n",
    "s = \"hello\"\n",
    "for element in s:\n",
    "    print(element)"
   ]
  },
  {
   "cell_type": "code",
   "execution_count": 56,
   "id": "6a7eb66b-6646-4344-9c54-35fe9a552d62",
   "metadata": {},
   "outputs": [
    {
     "name": "stdout",
     "output_type": "stream",
     "text": [
      "Wust yyds!\n",
      "Wust Yyds!\n",
      "WUST YYDS!\n",
      "wust yyds!\n"
     ]
    }
   ],
   "source": [
    "# 首先字母大写\n",
    "s1 = \"wust yyds!\"\n",
    "print(s1.capitalize())\n",
    "print(s1.title())\n",
    "print(s1.upper())\n",
    "print(s1.lower())"
   ]
  },
  {
   "cell_type": "code",
   "execution_count": 57,
   "id": "bdc2a162-80bf-4065-916e-1b0d39a67985",
   "metadata": {},
   "outputs": [
    {
     "name": "stdout",
     "output_type": "stream",
     "text": [
      "WUST YYDS!\n",
      "wust yyds!\n"
     ]
    }
   ],
   "source": [
    "# 不会对字符串本身作出修改，可以再创建一个字符串变量接收\n",
    "print(s1.upper())\n",
    "print(s1)"
   ]
  },
  {
   "cell_type": "code",
   "execution_count": 62,
   "id": "9e1f3ef4-154a-43ab-80e3-443cb6774a05",
   "metadata": {},
   "outputs": [
    {
     "name": "stdout",
     "output_type": "stream",
     "text": [
      "0\n"
     ]
    }
   ],
   "source": [
    "print(s1.find('wu'))"
   ]
  },
  {
   "cell_type": "code",
   "execution_count": 64,
   "id": "05a26e31-c1fc-4de9-b5f3-e66c3af24bef",
   "metadata": {},
   "outputs": [
    {
     "name": "stdout",
     "output_type": "stream",
     "text": [
      "True\n",
      "False\n"
     ]
    }
   ],
   "source": [
    "# 判断是否输入的全是数字\n",
    "nums = '12345'\n",
    "print(nums.isdigit())\n",
    "nums = '12345#'\n",
    "print(nums.isdigit())"
   ]
  },
  {
   "cell_type": "code",
   "execution_count": 66,
   "id": "52f59f36-2660-47c5-b69f-c34a85e0131c",
   "metadata": {},
   "outputs": [
    {
     "name": "stdout",
     "output_type": "stream",
     "text": [
      "hello wust\n",
      "你好，世界~\n"
     ]
    }
   ],
   "source": [
    "# isalpha()\n",
    "# isalnum()\n",
    "# 字符串的裁剪  默认情况下，函数strip()将删除字符串开头和结尾的空格，并返回前后不带空格的相同字符串。\n",
    "s2 = \"     hello wust\"\n",
    "print(s2.strip())\n",
    "\n",
    "# lstrip()\n",
    "# rstrip()\n",
    "s3 = \"~你好，世界~\"\n",
    "print(s3.lstrip(\"~\"))"
   ]
  },
  {
   "cell_type": "code",
   "execution_count": 72,
   "id": "78959603-cdb7-4a7c-8090-051038f311cb",
   "metadata": {},
   "outputs": [
    {
     "name": "stdout",
     "output_type": "stream",
     "text": [
      "陈子祥很帅！\n",
      "李振荣很帅！\n"
     ]
    }
   ],
   "source": [
    "s4 = \"陈子祥很帅！\"\n",
    "print(s4)\n",
    "print(s4.replace(\"陈子祥\",\"李振荣\",1))"
   ]
  },
  {
   "cell_type": "code",
   "execution_count": 73,
   "id": "593fc8bf-2837-4300-bd31-7e85f65232c0",
   "metadata": {},
   "outputs": [
    {
     "name": "stdout",
     "output_type": "stream",
     "text": [
      "['wust', 'yyds!', 'wust', 'very good!']\n"
     ]
    }
   ],
   "source": [
    "s4 = \"wust#yyds!#wust#very good!\"\n",
    "print(s4.split(\"#\"))"
   ]
  },
  {
   "cell_type": "code",
   "execution_count": null,
   "id": "ff1c005f-4381-4b10-8449-ef3dbe059e60",
   "metadata": {},
   "outputs": [],
   "source": []
  },
  {
   "cell_type": "code",
   "execution_count": null,
   "id": "30c0da57-3928-4e21-a9f3-579dc07591f9",
   "metadata": {},
   "outputs": [],
   "source": [
    "# DAY3下午"
   ]
  },
  {
   "cell_type": "code",
   "execution_count": null,
   "id": "74db564f-8ad4-4bb6-81b4-f76c449d0c0c",
   "metadata": {},
   "outputs": [],
   "source": [
    "# 常用数据结构\n",
    "# 可变类型 list\n",
    "# 不可变类型 字符串"
   ]
  },
  {
   "cell_type": "code",
   "execution_count": null,
   "id": "dd4e20e8-3cc3-4064-9630-4169a4783899",
   "metadata": {},
   "outputs": [],
   "source": [
    "# 哈希码\n",
    "import hashlib\n",
    "m = hashlib"
   ]
  },
  {
   "cell_type": "code",
   "execution_count": 2,
   "id": "d588c45b-061e-4ac0-8555-9071779d4392",
   "metadata": {},
   "outputs": [
    {
     "name": "stdout",
     "output_type": "stream",
     "text": [
      "java\n",
      "c\n",
      "c++\n",
      "python\n",
      "go\n"
     ]
    }
   ],
   "source": [
    "# 集合\n",
    "\n",
    "set1 = {'python', 'c++', 'java', 'c', 'go'}\n",
    "for element in set1:\n",
    "    print(element)"
   ]
  },
  {
   "cell_type": "code",
   "execution_count": 3,
   "id": "92da1160-3e3f-4696-8838-091aa1853ecd",
   "metadata": {},
   "outputs": [
    {
     "name": "stdout",
     "output_type": "stream",
     "text": [
      "True\n"
     ]
    }
   ],
   "source": [
    "# 成员判断\n",
    "print('go' in set1)"
   ]
  },
  {
   "cell_type": "code",
   "execution_count": 5,
   "id": "192f08de-b906-4caf-9f5a-b9d8ad49ffc8",
   "metadata": {},
   "outputs": [
    {
     "name": "stdout",
     "output_type": "stream",
     "text": [
      "{2, 5}\n",
      "{1, 2, 3, 4, 5, 7, 8, 9}\n",
      "{1, 3, 4}\n",
      "{1, 3, 4, 7, 8, 9}\n"
     ]
    }
   ],
   "source": [
    "# 交集，并集\n",
    "\n",
    "set1 = {1,2,3,4,5}\n",
    "set2 = {2,5,8,9,7}\n",
    "\n",
    "# 交集运算\n",
    "print(set1 & set2)\n",
    "\n",
    "# 并集运算\n",
    "print(set1 | set2)\n",
    "\n",
    "# - 差集\n",
    "print(set1 - set2)\n",
    "\n",
    "# ^ 对称集\n",
    "print(set1 ^ set2)"
   ]
  },
  {
   "cell_type": "code",
   "execution_count": 6,
   "id": "aded02f0-a097-4c32-bec6-bbc827d5f941",
   "metadata": {},
   "outputs": [
    {
     "name": "stdout",
     "output_type": "stream",
     "text": [
      "True\n"
     ]
    }
   ],
   "source": [
    "# 集合的比较运算符\n",
    "# 判断子集\n",
    "set1 = {1,2,3,4,5}\n",
    "set2 = {2,5,8,9,7}\n",
    "set3 = {1,2,3}\n",
    "\n",
    "print(set3 < set1)  "
   ]
  },
  {
   "cell_type": "code",
   "execution_count": 7,
   "id": "e7f97de3-88b2-4f97-bf1a-9c7b22d9329d",
   "metadata": {},
   "outputs": [
    {
     "name": "stdout",
     "output_type": "stream",
     "text": [
      "True\n"
     ]
    }
   ],
   "source": [
    "print(set3.issubset(set1))"
   ]
  },
  {
   "cell_type": "code",
   "execution_count": 8,
   "id": "5464f8e2-e7c5-4176-9396-2b1ce3262224",
   "metadata": {},
   "outputs": [
    {
     "name": "stdout",
     "output_type": "stream",
     "text": [
      "True\n"
     ]
    }
   ],
   "source": [
    "print(set1.issuperset(set3))"
   ]
  },
  {
   "cell_type": "code",
   "execution_count": 9,
   "id": "2dd3c3f6-4c17-4eed-9923-2c4c1b96dfb0",
   "metadata": {},
   "outputs": [
    {
     "name": "stdout",
     "output_type": "stream",
     "text": [
      "{10, 1, 2, 3}\n"
     ]
    }
   ],
   "source": [
    "# 集合的方法\n",
    "\n",
    "set3.add(10)\n",
    "print(set3)"
   ]
  },
  {
   "cell_type": "code",
   "execution_count": 10,
   "id": "6137fd1f-2b0a-43b3-91a3-3388fd9babd5",
   "metadata": {},
   "outputs": [
    {
     "name": "stdout",
     "output_type": "stream",
     "text": [
      "{1, 2, 3}\n"
     ]
    }
   ],
   "source": [
    "set3.remove(10)\n",
    "print(set3)"
   ]
  },
  {
   "cell_type": "code",
   "execution_count": 11,
   "id": "bee42f8d-19f2-48d2-8d5a-9bc2ed9ac33b",
   "metadata": {},
   "outputs": [
    {
     "name": "stdout",
     "output_type": "stream",
     "text": [
      "set()\n"
     ]
    }
   ],
   "source": [
    "set3.clear()\n",
    "print(set3)"
   ]
  },
  {
   "cell_type": "code",
   "execution_count": 13,
   "id": "1fedbb82-7b11-4502-98da-e9787776a56a",
   "metadata": {},
   "outputs": [
    {
     "name": "stdout",
     "output_type": "stream",
     "text": [
      "{'姓名': '李华', '年龄': 21, '学校': 'WUST'}\n",
      "{'name': '张三', 'age': 22, 'school': 'WUST'}\n"
     ]
    }
   ],
   "source": [
    "# 字典\n",
    "\n",
    "person = ['李华', 21, 'WUST']\n",
    "# 通过字典组合关键字和值，形成键值对\n",
    "\n",
    "person = {'姓名': '李华', '年龄': 21, '学校': 'WUST'}\n",
    "person1 = dict(name = '张三', age = 22, school = 'WUST')\n",
    "\n",
    "print(person)\n",
    "print(person1)"
   ]
  },
  {
   "cell_type": "code",
   "execution_count": 14,
   "id": "95d68fde-62b5-4e43-bce6-193fbe6202dd",
   "metadata": {},
   "outputs": [
    {
     "name": "stdout",
     "output_type": "stream",
     "text": [
      "{0: 0, 1: 1, 2: 4, 3: 9, 4: 16, 5: 25, 6: 36, 7: 49, 8: 64, 9: 81}\n"
     ]
    }
   ],
   "source": [
    "# 推导式\n",
    "dict3 = {x:x**2 for x in range(0,10)}\n",
    "print(dict3)"
   ]
  },
  {
   "cell_type": "code",
   "execution_count": 17,
   "id": "873ea7e6-12a7-45c8-a7df-a375a355d8d5",
   "metadata": {},
   "outputs": [
    {
     "name": "stdout",
     "output_type": "stream",
     "text": [
      "姓名\n",
      "年龄\n",
      "学校\n"
     ]
    }
   ],
   "source": [
    "# 遍历元素\n",
    "for key in person:\n",
    "    print(key)"
   ]
  },
  {
   "cell_type": "code",
   "execution_count": 18,
   "id": "77db0468-fe83-4f36-984c-022e20c7f13b",
   "metadata": {},
   "outputs": [
    {
     "name": "stdout",
     "output_type": "stream",
     "text": [
      "李华\n",
      "21\n",
      "WUST\n"
     ]
    }
   ],
   "source": [
    "# 通过键获得值\n",
    "for key in person:\n",
    "    print(person[key])"
   ]
  },
  {
   "cell_type": "code",
   "execution_count": 19,
   "id": "ec4dd01f-4eb1-408f-a672-f0e79d629959",
   "metadata": {},
   "outputs": [
    {
     "name": "stdout",
     "output_type": "stream",
     "text": [
      "None\n"
     ]
    }
   ],
   "source": [
    "# 查找字典中是否有待查找的关键字\n",
    "print(person.get('性别'))"
   ]
  },
  {
   "cell_type": "code",
   "execution_count": 21,
   "id": "248d96ea-d71a-4dc7-85d3-4bace98b6048",
   "metadata": {},
   "outputs": [
    {
     "name": "stdout",
     "output_type": "stream",
     "text": [
      "dict_keys(['姓名', '年龄', '学校'])\n",
      "dict_values(['李华', 21, 'WUST'])\n"
     ]
    }
   ],
   "source": [
    "print(person.keys())\n",
    "print(person.values())"
   ]
  },
  {
   "cell_type": "code",
   "execution_count": 22,
   "id": "15abd217-b8b4-4c5d-ba54-252894b84d60",
   "metadata": {},
   "outputs": [
    {
     "name": "stdout",
     "output_type": "stream",
     "text": [
      "{'姓名': '李华', '年龄': 21, '学校': 'WUST'}\n"
     ]
    }
   ],
   "source": [
    "print(person)"
   ]
  },
  {
   "cell_type": "code",
   "execution_count": 23,
   "id": "db19e2e4-1716-4af1-af52-27d555565354",
   "metadata": {},
   "outputs": [
    {
     "name": "stdout",
     "output_type": "stream",
     "text": [
      "{'姓名': '李华', '年龄': 36, '学校': 'WUST'}\n"
     ]
    }
   ],
   "source": [
    "new_information = {'姓名': '李华', '年龄': 36, '学校': 'WUST'}\n",
    "\n",
    "person.update(new_information)\n",
    "print(person)"
   ]
  },
  {
   "cell_type": "code",
   "execution_count": null,
   "id": "2a0bfb9a-f3d9-40f7-8fdf-136ff67d5fa0",
   "metadata": {},
   "outputs": [],
   "source": []
  },
  {
   "cell_type": "code",
   "execution_count": null,
   "id": "057bb494-459c-4493-b3df-f8165cb2eaa6",
   "metadata": {},
   "outputs": [],
   "source": []
  },
  {
   "cell_type": "markdown",
   "id": "cbe76d6c-e39c-4b16-a6b5-d8fa238ee1a2",
   "metadata": {},
   "source": [
    "### 一个数学问题：以下式子有多少组正整数解？ ###"
   ]
  },
  {
   "cell_type": "markdown",
   "id": "24e5ca47-e821-4443-aa81-dc8d4aa5e42f",
   "metadata": {},
   "source": [
    "$$x_1+x_2+x_3+x_4=8$$"
   ]
  },
  {
   "cell_type": "markdown",
   "id": "0d5053e0-41a4-4d65-a2b3-d1cba78954d3",
   "metadata": {},
   "source": [
    "$解析 上述问题可以转换成：$"
   ]
  },
  {
   "cell_type": "markdown",
   "id": "93200400-cef8-4555-9585-48d81b2c3ed4",
   "metadata": {},
   "source": [
    "$$C_n^m =\\frac{n!}{m! (n - m)!}$$"
   ]
  },
  {
   "cell_type": "code",
   "execution_count": 30,
   "id": "4e18078e-ec40-4ad4-a782-6de68303404f",
   "metadata": {},
   "outputs": [
    {
     "name": "stdin",
     "output_type": "stream",
     "text": [
      "m =  1\n",
      "n =  6\n"
     ]
    },
    {
     "name": "stdout",
     "output_type": "stream",
     "text": [
      "6\n"
     ]
    }
   ],
   "source": [
    "m = int(input('m = '))\n",
    "n = int(input('n = '))\n",
    "\n",
    "# 计算n的阶乘\n",
    "fn = 1\n",
    "for num in range(1,n+1):\n",
    "    fn *= num\n",
    "\n",
    "# 计算m的阶乘\n",
    "fm = 1\n",
    "for num in range(1,m+1):\n",
    "    fm *= num\n",
    "\n",
    "# 计算 m-n 的阶乘\n",
    "fk = 1\n",
    "for num in range(1,n-m+1):\n",
    "        fk *= num\n",
    "\n",
    "print(fn//fm//fk)"
   ]
  },
  {
   "cell_type": "code",
   "execution_count": 31,
   "id": "b866a5e7-89f3-4901-afc7-842aa78c01a0",
   "metadata": {},
   "outputs": [
    {
     "name": "stdin",
     "output_type": "stream",
     "text": [
      "m =  1\n",
      "n =  6\n"
     ]
    },
    {
     "name": "stdout",
     "output_type": "stream",
     "text": [
      "6\n"
     ]
    }
   ],
   "source": [
    "# 用函数的方式抽象阶乘的部分\n",
    "def fac(m):\n",
    "    result = 1\n",
    "    for n in range(2,m+1):\n",
    "        result *= n\n",
    "    return result\n",
    "\n",
    "m = int(input('m = '))\n",
    "n = int(input('n = '))\n",
    "print(fac(n)//fac(m)//fac(n-m))"
   ]
  },
  {
   "cell_type": "code",
   "execution_count": 33,
   "id": "ca8cdee5-2552-4634-9a53-67d920fb2e90",
   "metadata": {},
   "outputs": [
    {
     "name": "stdin",
     "output_type": "stream",
     "text": [
      "m =  1\n",
      "n =  6\n"
     ]
    },
    {
     "name": "stdout",
     "output_type": "stream",
     "text": [
      "6\n"
     ]
    }
   ],
   "source": [
    "# 调用math库中的factorial函数\n",
    "from math import factorial\n",
    "\n",
    "m = int(input('m = '))\n",
    "n = int(input('n = '))\n",
    "print(factorial(n)//factorial(m)//factorial(n-m))"
   ]
  },
  {
   "cell_type": "code",
   "execution_count": 35,
   "id": "0491f9b3-daf7-40e0-b437-297f94f3ad20",
   "metadata": {},
   "outputs": [
    {
     "name": "stdout",
     "output_type": "stream",
     "text": [
      "True\n"
     ]
    }
   ],
   "source": [
    "# 函数的参数\n",
    "# 1位置参数默认定义\n",
    "\n",
    "# 判断三角形：两边之和大于第三边 \n",
    "def tri(a,b,c):\n",
    "    return a+b>c and a+c>b and b+c>a\n",
    "print(tri(3,4,5))"
   ]
  },
  {
   "cell_type": "code",
   "execution_count": 36,
   "id": "0235e856-b5a5-484d-955b-b9310a2b3928",
   "metadata": {},
   "outputs": [
    {
     "name": "stdout",
     "output_type": "stream",
     "text": [
      "False\n"
     ]
    }
   ],
   "source": [
    "print(tri(a=1,b=1,c=2))"
   ]
  },
  {
   "cell_type": "code",
   "execution_count": 38,
   "id": "c738f04d-a808-4f5f-a444-8d135fc614d1",
   "metadata": {},
   "outputs": [
    {
     "name": "stdout",
     "output_type": "stream",
     "text": [
      "True\n"
     ]
    }
   ],
   "source": [
    "# 默认变量放到位置变量之后\n",
    "def tri(b,c,a=2):\n",
    "    return a+b>c and a+c>b and b+c>a\n",
    "print(tri(4,5))"
   ]
  },
  {
   "cell_type": "code",
   "execution_count": 39,
   "id": "f06dcaf5-e638-46ec-a282-6be3cea59bbb",
   "metadata": {},
   "outputs": [
    {
     "name": "stdout",
     "output_type": "stream",
     "text": [
      "False\n"
     ]
    }
   ],
   "source": [
    "print(tri(a=1,b=2,c=3))"
   ]
  },
  {
   "cell_type": "code",
   "execution_count": 2,
   "id": "4da9b5fb-5012-45c6-a7b6-0f403e9bdee3",
   "metadata": {},
   "outputs": [
    {
     "name": "stdout",
     "output_type": "stream",
     "text": [
      "1\n",
      "6\n"
     ]
    }
   ],
   "source": [
    "# 可变参数\n",
    "def add(*args):\n",
    "    total = 0\n",
    "    for val in args:\n",
    "        if type(val) in (int, float):\n",
    "            total +=val\n",
    "    return total\n",
    "\n",
    "print(add(1))\n",
    "print(add(1,2,3))"
   ]
  },
  {
   "cell_type": "code",
   "execution_count": 44,
   "id": "88ee8c69-fd28-4b55-99a3-50f4cff3cabd",
   "metadata": {},
   "outputs": [],
   "source": [
    "# 参数的位置关系\n",
    "def args_position(a,b,c, *args, d=0, e=1, **kwargs):\n",
    "    pass\n",
    "args_position(1, 2, 3, 4, 5, 6, d=3, e=4)"
   ]
  },
  {
   "cell_type": "code",
   "execution_count": 53,
   "id": "e22cd64f-ed8c-4edb-8281-2582f33c2f0c",
   "metadata": {},
   "outputs": [],
   "source": [
    "import extern\n",
    "import extern1"
   ]
  },
  {
   "cell_type": "code",
   "execution_count": 54,
   "id": "3fc8703e-e0de-431d-bdbc-9fc9e798e3bb",
   "metadata": {},
   "outputs": [
    {
     "name": "stdout",
     "output_type": "stream",
     "text": [
      "这是来自extern\n"
     ]
    }
   ],
   "source": [
    "extern.foo()"
   ]
  },
  {
   "cell_type": "code",
   "execution_count": 55,
   "id": "f94da05b-c493-4c11-930c-61f0fd8f1f12",
   "metadata": {},
   "outputs": [
    {
     "name": "stdout",
     "output_type": "stream",
     "text": [
      "这是来自extern1\n"
     ]
    }
   ],
   "source": [
    "extern1.foo()"
   ]
  }
 ],
 "metadata": {
  "kernelspec": {
   "display_name": "Python 3 (ipykernel)",
   "language": "python",
   "name": "python3"
  },
  "language_info": {
   "codemirror_mode": {
    "name": "ipython",
    "version": 3
   },
   "file_extension": ".py",
   "mimetype": "text/x-python",
   "name": "python",
   "nbconvert_exporter": "python",
   "pygments_lexer": "ipython3",
   "version": "3.11.3"
  }
 },
 "nbformat": 4,
 "nbformat_minor": 5
}
