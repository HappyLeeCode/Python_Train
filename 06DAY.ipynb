{
 "cells": [
  {
   "cell_type": "code",
   "execution_count": 3,
   "id": "0f4a1aa8-b93a-4cf2-8aa4-39a4fb3d23d0",
   "metadata": {},
   "outputs": [],
   "source": [
    "import cv2\n",
    "img = cv2.imread(\"huafen.jpg\", 0) # 1表示3通道彩色，0表示单通道灰度\n",
    "cv2.imshow(\"img\", img) # 显示图像\n",
    "cv2.imwrite(\"huafen01.jpg\", img) # 保存图像\n",
    "cv2.waitKey(0) # 等待用户按键反馈，0表示永远等待\n",
    "cv2.destroyAllWindows() # 销毁所有创建的窗口"
   ]
  },
  {
   "cell_type": "code",
   "execution_count": 4,
   "id": "936b8cd3-4659-4beb-82f8-1f31f32b7daa",
   "metadata": {},
   "outputs": [],
   "source": [
    "import cv2\n",
    "import torch"
   ]
  },
  {
   "cell_type": "code",
   "execution_count": null,
   "id": "a560cdcd-4b40-4532-a8d6-9eefd0e0aefc",
   "metadata": {},
   "outputs": [],
   "source": []
  }
 ],
 "metadata": {
  "kernelspec": {
   "display_name": "Python 3 (ipykernel)",
   "language": "python",
   "name": "python3"
  },
  "language_info": {
   "codemirror_mode": {
    "name": "ipython",
    "version": 3
   },
   "file_extension": ".py",
   "mimetype": "text/x-python",
   "name": "python",
   "nbconvert_exporter": "python",
   "pygments_lexer": "ipython3",
   "version": "3.11.3"
  }
 },
 "nbformat": 4,
 "nbformat_minor": 5
}
