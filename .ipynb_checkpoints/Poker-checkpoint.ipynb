{
 "cells": [
  {
   "cell_type": "code",
   "execution_count": 1,
   "id": "ff5abab6-e6eb-4580-844f-685bf3160c79",
   "metadata": {},
   "outputs": [],
   "source": [
    "import random\n",
    "\"\"\"\n",
    "1. 扑克游戏: 简单起见, 扑克只有52张牌(没有大小王), 需要将52张牌发到4个玩家的手上\n",
    "            每个玩家手上有13张牌, 按照黑桃、红心、草花、方块的顺序和点数从小到大排列。\n",
    "2. 在上面代码的基础上实现了一个简单的扑克游戏: 21点游戏 (Black Jack)\n",
    "            备注: 21点游戏部分借鉴参考了CSDN上的一篇文章(https://blog.csdn.net/Zhangguohao666/article/details/103948545)\n",
    "                  原文是以函数的形式实现21点游戏, 而我将原文的功能以类(PokerGame)的形式进行了封装\n",
    "                  此外, 在实现PokerGame类中, 继承了已有的PokerGame类中的一部分属性和方法, 尽可能实现了代码复用\n",
    ":Author: 李振荣\n",
    ":Version: V1.0.1\n",
    "\"\"\"\n",
    "\n",
    "\n",
    "class Face:\n",
    "    \"\"\"\n",
    "    定义牌面类, 表示扑克牌的基本属性\n",
    "    suits: 所有的花色，取值范围为 \"♠\", \"♥\", \"♣\", \"♦\"。\n",
    "    ranks: 所有的点数，取值范围为 2-10, \"J\", \"Q\", \"K\", \"A\"。\n",
    "    \"\"\"\n",
    "    suits = [\"♠\", \"♥\", \"♣\", \"♦\"]                 #按照黑桃、红心、草花、方块的顺序\n",
    "    ranks = [\"A\", \"2\", \"3\", \"4\",\"5\", \"6\", \"7\", \"8\", \"9\", \"10\", \"J\", \"Q\", \"K\"]  #按点数的数值大小顺序\n",
    "\n",
    "\n",
    "class Card:\n",
    "    \"\"\"\n",
    "    定义牌类, 表示一张扑克牌\n",
    "    即由牌面类(Face)里的花色(suit)和(点数)构成一张牌\n",
    "    suit: 花色\n",
    "    rank: 点数\n",
    "    \"\"\"\n",
    "    def __init__(self, suit, rank):\n",
    "        self.suit = suit\n",
    "        self.rank = rank\n",
    "    \n",
    "    def __repr__(self):\n",
    "        return f'{self.suit}{self.rank}'\n",
    "\n",
    "#测试一张牌\n",
    "#card_test = Card(Face.suits[1],Face.ranks[1])        \n",
    "#print(card_test)\n",
    "\n",
    "\n",
    "class PokerGame:\n",
    "    \"\"\"\n",
    "    定义扑克游戏类, 包含进行一次扑克牌游戏的方法\n",
    "    cards: 初始化一副牌\n",
    "    current: 每次发牌时最上面的一张牌 \n",
    "    \"\"\"\n",
    "\n",
    "    def __init__(self):\n",
    "        self.cards = [Card(suit, rank) for suit in Face.suits for rank in Face.ranks]\n",
    "        self.current = 0\n",
    "    \n",
    "    def shuffle(self):\n",
    "        \"\"\"洗牌\"\"\"\n",
    "        random.shuffle(self.cards)\n",
    "        self.current = 0\n",
    "\n",
    "    def deal(self):\n",
    "        \"\"\"发牌\"\"\"\n",
    "        card = self.cards[self.current]\n",
    "        self.current += 1\n",
    "        return card\n",
    "    \n",
    "    def receive(self, players):\n",
    "        \"\"\"用户获得牌\"\"\"\n",
    "        for _ in range(13):\n",
    "            for player in players:\n",
    "                player.receive_card(self.deal())\n",
    "            \n",
    "#测试洗牌功能\n",
    "#game_test = PorkerGame()\n",
    "#game_test.shuffle()\n",
    "#print(game_test.cards)\n",
    "\n",
    "\n",
    "class Player:\n",
    "    \"\"\"\n",
    "    定义玩家类, 包含玩家的属性以及一些方法\n",
    "    name: 玩家姓名\n",
    "    cards: 玩家的手牌\n",
    "    \"\"\"\n",
    "    def __init__(self, name):\n",
    "        self.name = name\n",
    "        self.cards = []\n",
    "\n",
    "    def receive_card(self, card):\n",
    "        \"\"\"摸到一张牌\"\"\"\n",
    "        self.cards.append(card)\n",
    "\n",
    "    def hand_sort(self):\n",
    "        \"\"\"用户手牌排序\"\"\"   \n",
    "        # 按照黑桃、红心、草花、方块的顺序和点数从小到大排列\n",
    "        self.cards.sort( key = lambda card: (Face.suits.index(card.suit), Face.ranks.index(card.rank)) )\n",
    "\n",
    "\n",
    "class Blackjack(PokerGame):\n",
    "        \"\"\"\n",
    "        21点扑克牌游戏 (人机对战)\n",
    "        电脑为庄家, 用户为玩家\n",
    "        本类继承了PokerGame类的一些属性和方法\n",
    "        house: 电脑(庄家)的手牌\n",
    "        user: 用户(玩家)的手牌\n",
    "\n",
    "        \"\"\"\n",
    "        def __init__(self):\n",
    "            super().__init__()       #继承PokerGame类的构造\n",
    "            PokerGame.shuffle(self)  #使用PokerGame类的shuffle(洗牌)方法\n",
    "            self.deck = self.cards   #继承PokerGame类中的属性cards (一副洗好的牌)\n",
    "            #上面三行代码实现了在Blackjack类中得到一副随机的牌组\n",
    "\n",
    "            self.house = []\n",
    "            self.user = []\n",
    "\n",
    "        def calculate(self, hand):\n",
    "            \"\"\"计算并返回一手牌的点数和\"\"\"\n",
    "            values = {'2':2, '3':3, '4':4, '5':5, '6':6, '7':7, '8':8, '9':9, '10':10, 'J':10, 'Q':10, 'K':10, 'A':11}\n",
    "            result = 0 #初始化点数和为0\n",
    "            numAces = 0 #A的个数\n",
    "\n",
    "            # 计算点数和A的个数\n",
    "            for card in hand:\n",
    "                result += values[card.rank]\n",
    "            if card.rank == 'A':\n",
    "                numAces += 1\n",
    "    \n",
    "            # 如果点数和>21，则尝试把A当做1来计算\n",
    "            # (即减去10)，多个A循环减去10，直到点数<=21\n",
    "            while result > 21 and numAces > 0:\n",
    "                result -= 10\n",
    "                numAces -= 1\n",
    "            return result\n",
    "\n",
    "        def start(self):\n",
    "            \"\"\"开始进行21点(blackjack)游戏\"\"\"\n",
    "            \n",
    "            # 依次给玩家和庄家各发两张牌\n",
    "            for i in range(2):\n",
    "                self.house.append(PokerGame.deal(self))\n",
    "                self.user.append(PokerGame.deal(self))\n",
    "            # 打印手牌\n",
    "            print('电脑的牌：', end = ''); print(self.house)\n",
    "            print('用户的牌：', end = ''); print(self.user)\n",
    "            \n",
    "            # 询问玩家（用户）是否继续拿牌，如果是，继续给玩家发牌\n",
    "            answer = input('您是否选择继续拿牌（y/n，缺省为y）：')\n",
    "            while answer in ('', 'y', 'Y'):\n",
    "                self.user.append(PokerGame.deal(self))\n",
    "                print('用户拿到的牌为：', end = ''); print(self.user)\n",
    "                 # 计算牌点\n",
    "                if self.calculate(self.user) > 21:\n",
    "                    print('LOSE  用户失败!')\n",
    "                    return\n",
    "                answer = input('您是否选择继续拿牌（y/n，缺省为y）：')\n",
    "        \n",
    "            # 庄家(电脑)按“庄家规则”确定是否拿牌\n",
    "            while self.calculate(self.house) < 17:\n",
    "                self.house.append(PokerGame.deal(self))\n",
    "                print('电脑拿到的牌为：', end =''); print(self.house)\n",
    "                # 计算牌点\n",
    "                if self.calculate(self.house) > 21:\n",
    "                    print('WIN  用户获胜!')\n",
    "                    return\n",
    "\n",
    "            # 当庄家（电脑）和玩家（用户）均停牌，即按照各自的选择或者机制不再要牌时\n",
    "            # 分别计算庄家（电脑）和玩家（用户）的点数，比较点数大小，输出输赢结果信息\n",
    "            houseTotal, userTotal = self.calculate(self.house), self.calculate(self.user)\n",
    "            if houseTotal > userTotal:\n",
    "                print('电脑获胜!')\n",
    "            elif houseTotal < userTotal:\n",
    "                print('用户获胜!')\n",
    "            elif houseTotal == 21 and 2 == len(self.house) < len(self.user) : # 拥有blackjack的庄家赢牌\n",
    "                print('电脑获胜!')\n",
    "            elif userTotal == 21 and 2 == len(self.user) < len(self.house) : # 拥有blackjack的玩家赢牌\n",
    "                print('用户获胜!')\n",
    "            else:\n",
    "                print('平局！')\n"
   ]
  },
  {
   "cell_type": "code",
   "execution_count": 2,
   "id": "dc099e7d-43e7-4c12-89a8-5376a009f2a2",
   "metadata": {},
   "outputs": [
    {
     "name": "stdout",
     "output_type": "stream",
     "text": [
      "张三: [♠A, ♠4, ♠5, ♠6, ♠K, ♥A, ♥5, ♣A, ♣7, ♣9, ♣K, ♦8, ♦10]\n",
      "李四: [♠2, ♠10, ♥4, ♥6, ♥8, ♥Q, ♣3, ♣5, ♣6, ♦4, ♦6, ♦9, ♦Q]\n",
      "王五: [♠3, ♠J, ♥2, ♥9, ♥10, ♥J, ♥K, ♣2, ♣8, ♣J, ♣Q, ♦5, ♦7]\n",
      "赵六: [♠7, ♠8, ♠9, ♠Q, ♥3, ♥7, ♣4, ♣10, ♦A, ♦2, ♦3, ♦J, ♦K]\n"
     ]
    }
   ],
   "source": [
    "if __name__ == '__main__':\n",
    "\n",
    "    # 测试发牌和手牌排序\n",
    "    game1 = PokerGame()\n",
    "    game1.shuffle()\n",
    "    players = [Player('张三'), Player('李四'), Player('王五'), Player('赵六')]\n",
    "    game1.receive(players)\n",
    "    \n",
    "    for player in players:\n",
    "        player.hand_sort()\n",
    "        print(f'{player.name}: ', end='')\n",
    "        print(player.cards)"
   ]
  },
  {
   "cell_type": "code",
   "execution_count": 3,
   "id": "d88bb42d-63ca-41f2-8170-00dac7876199",
   "metadata": {},
   "outputs": [
    {
     "name": "stdout",
     "output_type": "stream",
     "text": [
      "张三: [♠3, ♠5, ♠6, ♠10, ♥3, ♥6, ♣4, ♣5, ♣9, ♣10, ♣J, ♦4, ♦9]\n",
      "李四: [♠7, ♠8, ♠J, ♠K, ♥2, ♥5, ♣A, ♣2, ♣8, ♣K, ♦5, ♦8, ♦10]\n",
      "王五: [♠A, ♠9, ♥A, ♥7, ♥8, ♥9, ♥Q, ♥K, ♣6, ♣7, ♦3, ♦7, ♦Q]\n",
      "赵六: [♠2, ♠4, ♠Q, ♥4, ♥10, ♥J, ♣3, ♣Q, ♦A, ♦2, ♦6, ♦J, ♦K]\n"
     ]
    }
   ],
   "source": [
    "if __name__ == '__main__':\n",
    "\n",
    "    # 测试发牌和手牌排序\n",
    "    game1 = PokerGame()\n",
    "    game1.shuffle()\n",
    "    players = [Player('张三'), Player('李四'), Player('王五'), Player('赵六')]\n",
    "    game1.receive(players)\n",
    "    \n",
    "    for player in players:\n",
    "        player.hand_sort()\n",
    "        print(f'{player.name}: ', end='')\n",
    "        print(player.cards)"
   ]
  },
  {
   "cell_type": "code",
   "execution_count": 4,
   "id": "d78af633-bff3-436a-8ac7-5a023f1e934a",
   "metadata": {},
   "outputs": [
    {
     "name": "stdout",
     "output_type": "stream",
     "text": [
      "电脑的牌：[♣7, ♦Q]\n",
      "用户的牌：[♣10, ♠10]\n"
     ]
    },
    {
     "name": "stdin",
     "output_type": "stream",
     "text": [
      "您是否选择继续拿牌（y/n，缺省为y）： y\n"
     ]
    },
    {
     "name": "stdout",
     "output_type": "stream",
     "text": [
      "用户拿到的牌为：[♣10, ♠10, ♠9]\n",
      "LOSE  用户失败!\n"
     ]
    }
   ],
   "source": [
    "    # 测试21点游戏\n",
    "    game2 = Blackjack()\n",
    "    game2.start()"
   ]
  },
  {
   "cell_type": "code",
   "execution_count": 5,
   "id": "74de42cf-2858-45bb-9fdb-a69bbc84d0db",
   "metadata": {},
   "outputs": [
    {
     "name": "stdout",
     "output_type": "stream",
     "text": [
      "电脑的牌：[♣8, ♠9]\n",
      "用户的牌：[♣3, ♥4]\n"
     ]
    },
    {
     "name": "stdin",
     "output_type": "stream",
     "text": [
      "您是否选择继续拿牌（y/n，缺省为y）： y\n"
     ]
    },
    {
     "name": "stdout",
     "output_type": "stream",
     "text": [
      "用户拿到的牌为：[♣3, ♥4, ♣A]\n"
     ]
    },
    {
     "name": "stdin",
     "output_type": "stream",
     "text": [
      "您是否选择继续拿牌（y/n，缺省为y）： n\n"
     ]
    },
    {
     "name": "stdout",
     "output_type": "stream",
     "text": [
      "用户获胜!\n"
     ]
    }
   ],
   "source": [
    "    # 测试21点游戏\n",
    "    game2 = Blackjack()\n",
    "    game2.start()"
   ]
  },
  {
   "cell_type": "code",
   "execution_count": null,
   "id": "94d4e029-381a-478a-9689-ec29c229e92e",
   "metadata": {},
   "outputs": [],
   "source": []
  }
 ],
 "metadata": {
  "kernelspec": {
   "display_name": "Python 3 (ipykernel)",
   "language": "python",
   "name": "python3"
  },
  "language_info": {
   "codemirror_mode": {
    "name": "ipython",
    "version": 3
   },
   "file_extension": ".py",
   "mimetype": "text/x-python",
   "name": "python",
   "nbconvert_exporter": "python",
   "pygments_lexer": "ipython3",
   "version": "3.11.3"
  }
 },
 "nbformat": 4,
 "nbformat_minor": 5
}
