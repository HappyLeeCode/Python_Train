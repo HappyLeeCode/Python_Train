{
 "cells": [
  {
   "cell_type": "code",
   "execution_count": 1,
   "id": "b58b9200-2d6a-4665-a522-d04a099dbbc8",
   "metadata": {},
   "outputs": [],
   "source": [
    "# DAY2 Python基础语法    "
   ]
  },
  {
   "cell_type": "code",
   "execution_count": 2,
   "id": "49afd140-aa04-4c06-b0d1-0e7d92427d19",
   "metadata": {},
   "outputs": [
    {
     "name": "stdout",
     "output_type": "stream",
     "text": [
      "d\n"
     ]
    }
   ],
   "source": [
    "# 类型转换\n",
    "a = 100\n",
    "print(chr(a))"
   ]
  },
  {
   "cell_type": "code",
   "execution_count": 3,
   "id": "605fb96d-333b-4cc8-a68b-5c5850c66c50",
   "metadata": {},
   "outputs": [
    {
     "name": "stdout",
     "output_type": "stream",
     "text": [
      "2\n",
      "14\n",
      "10000\n"
     ]
    }
   ],
   "source": [
    "print(100%7) #取余数\n",
    "print(100//7) #取整数\n",
    "print(100**2) #开方"
   ]
  },
  {
   "cell_type": "code",
   "execution_count": 5,
   "id": "0c548df0-1a24-4fe0-8c4c-7c9bd25cd4d3",
   "metadata": {},
   "outputs": [
    {
     "name": "stdin",
     "output_type": "stream",
     "text": [
      "请输入圆的半径 100\n"
     ]
    },
    {
     "name": "stdout",
     "output_type": "stream",
     "text": [
      "圆的周长是628.0,面积是31400.0\n"
     ]
    }
   ],
   "source": [
    "# 计算圆的周长和面积\n",
    "\n",
    "radius = float(input('请输入圆的半径'))#圆的面积和周长\n",
    "perimeter = 2*3.14*radius\n",
    "area = 3.14*radius**2\n",
    "print(f'圆的周长是{perimeter},面积是{area}')"
   ]
  },
  {
   "cell_type": "code",
   "execution_count": 6,
   "id": "5eea78b9-b58d-48bb-865a-a96e88a44544",
   "metadata": {},
   "outputs": [
    {
     "name": "stdin",
     "output_type": "stream",
     "text": [
      "请输入一个年份：  2024\n"
     ]
    },
    {
     "name": "stdout",
     "output_type": "stream",
     "text": [
      "是否是闰年： True\n"
     ]
    }
   ],
   "source": [
    "# DAY1题目解析：判断闰年\n",
    "# 输入一个年份，判断是否是闰年\n",
    "# 输入年份，能被4但不能被100整除，或者可以被400整除的年份 为闰年\n",
    "\n",
    "year = int (input('请输入一个年份： '))\n",
    "is_leap = year % 4 == 0 and year % 100 != 0 or year % 400 == 0\n",
    "print(f'是否是闰年： {is_leap}')"
   ]
  },
  {
   "cell_type": "code",
   "execution_count": 7,
   "id": "93493adc-c912-4697-8ff2-8681b7495cb3",
   "metadata": {},
   "outputs": [
    {
     "name": "stdin",
     "output_type": "stream",
     "text": [
      "请输入一个年份： 2000\n"
     ]
    },
    {
     "name": "stdout",
     "output_type": "stream",
     "text": [
      "2000年是闰年。\n"
     ]
    }
   ],
   "source": [
    "# 分支结构\n",
    "\n",
    "# 重写判断闰年\n",
    "\n",
    "year = int(input('请输入一个年份：'))\n",
    "if(year % 4 == 0 and year % 100 != 0 or year%400==0 ):\n",
    "    print(f\"{year}年是闰年。\")\n",
    "else:\n",
    "    print(f\"{year}年不是闰年。\")"
   ]
  },
  {
   "cell_type": "code",
   "execution_count": 8,
   "id": "bc799d37-d2cd-4623-b938-15dd8277e8f4",
   "metadata": {},
   "outputs": [
    {
     "name": "stdin",
     "output_type": "stream",
     "text": [
      "输入身高（米）： 1.80\n",
      "输入体重（千克）： 74\n"
     ]
    },
    {
     "name": "stdout",
     "output_type": "stream",
     "text": [
      "符合标准\n"
     ]
    }
   ],
   "source": [
    "# 分支结构 if else \n",
    "\n",
    "heigh = float(input('输入身高（米）：'))\n",
    "weight = float(input('输入体重（千克）：'))\n",
    "bmi = weight/heigh**2\n",
    "if 18.5 <= bmi <=24:\n",
    "    print ('符合标准')\n",
    "elif bmi <10:\n",
    "    print('eat more')\n",
    "else:\n",
    "    print('non')"
   ]
  },
  {
   "cell_type": "code",
   "execution_count": 9,
   "id": "c5534c2f-89f7-4d00-a4e5-02d770463e08",
   "metadata": {},
   "outputs": [
    {
     "name": "stdin",
     "output_type": "stream",
     "text": [
      "状态响应码是： 404\n"
     ]
    },
    {
     "name": "stdout",
     "output_type": "stream",
     "text": [
      "状态码描述是：Not Found\n"
     ]
    }
   ],
   "source": [
    "# 分支结构 match case \n",
    "\n",
    "status_code = int(input(\"状态响应码是：\"))\n",
    "match status_code:\n",
    "    case 400: description = \"Bad Request\"\n",
    "    case 401: description = \"Unauthorized\"\n",
    "    case 403: description = \"Forbidden\"\n",
    "    case 404: description = \"Not Found\"\n",
    "    case 405: description = \"Method Not Allowed\"\n",
    "    case _   : description = \"Unknow status_code\"\n",
    "print(f\"状态码描述是：{description}\")"
   ]
  },
  {
   "cell_type": "code",
   "execution_count": 10,
   "id": "9470977c-3c15-4921-8a46-13cf9e938044",
   "metadata": {},
   "outputs": [
    {
     "name": "stdout",
     "output_type": "stream",
     "text": [
      "1718779968.3787804\n"
     ]
    }
   ],
   "source": [
    "# 返回当前时间戳（1970纪元后经过的浮点秒数）\n",
    "import time\n",
    "print (time.time())"
   ]
  },
  {
   "cell_type": "code",
   "execution_count": 11,
   "id": "4646850c-c989-47e9-93c3-211cc8e612ee",
   "metadata": {},
   "outputs": [
    {
     "name": "stdout",
     "output_type": "stream",
     "text": [
      "苍黄翻覆，波谲云诡\n",
      "666\n"
     ]
    }
   ],
   "source": [
    "print('苍黄翻覆，波谲云诡')\n",
    "time.sleep(10)\n",
    "print('666')"
   ]
  },
  {
   "cell_type": "code",
   "execution_count": 12,
   "id": "31cea8b3-dc64-403e-9c03-c8ab4d8514d4",
   "metadata": {},
   "outputs": [
    {
     "name": "stdout",
     "output_type": "stream",
     "text": [
      "Hello World!\n",
      "Hello World!\n"
     ]
    }
   ],
   "source": [
    "# 循环结构\n",
    "for i in range (2):    #循环输出2次\n",
    "    print('Hello World!')\n",
    "    time.sleep(3)"
   ]
  },
  {
   "cell_type": "code",
   "execution_count": 13,
   "id": "c40f3032-d3b5-43e1-94f9-770224869a2d",
   "metadata": {},
   "outputs": [
    {
     "data": {
      "text/plain": [
       "range(100, 0, -2)"
      ]
     },
     "execution_count": 13,
     "metadata": {},
     "output_type": "execute_result"
    }
   ],
   "source": [
    "# 设置循环次数\n",
    "range(101)\n",
    "range(1,101)\n",
    "range(1,101,2)\n",
    "range(100,0,-2)"
   ]
  },
  {
   "cell_type": "code",
   "execution_count": 14,
   "id": "1db344d9-4a59-4a88-9a94-5c76f3466079",
   "metadata": {},
   "outputs": [
    {
     "name": "stdout",
     "output_type": "stream",
     "text": [
      "5050\n"
     ]
    }
   ],
   "source": [
    "# 从1加到100,求和\n",
    "total = 0\n",
    "for i in range(1,101):\n",
    "    total += i\n",
    "print(total)"
   ]
  },
  {
   "cell_type": "code",
   "execution_count": 15,
   "id": "1497a38a-b888-471b-abe2-12ab174a7c3c",
   "metadata": {},
   "outputs": [
    {
     "name": "stdout",
     "output_type": "stream",
     "text": [
      "2550\n"
     ]
    }
   ],
   "source": [
    "# 从1加到100  偶数和\n",
    "total = 0\n",
    "for i in range(2,101,2):\n",
    "    total +=i\n",
    "print (total)"
   ]
  },
  {
   "cell_type": "code",
   "execution_count": 16,
   "id": "70834a87-65df-4bd3-8b06-c3b7344e0101",
   "metadata": {},
   "outputs": [
    {
     "name": "stdout",
     "output_type": "stream",
     "text": [
      "2550\n"
     ]
    }
   ],
   "source": [
    "# 1行代码：从1加到100  偶数和\n",
    "# sum函数\n",
    "print(sum(range(2,101,2)))"
   ]
  },
  {
   "cell_type": "code",
   "execution_count": 17,
   "id": "3007d3c4-6faa-4775-80e6-3cb866f65811",
   "metadata": {},
   "outputs": [
    {
     "name": "stdout",
     "output_type": "stream",
     "text": [
      "5050\n"
     ]
    }
   ],
   "source": [
    "# while循环\n",
    "# 常用于：不知道循环次数，只知道终止条件\n",
    "total = 0\n",
    "i=1\n",
    "while i <= 100:\n",
    "    total += i\n",
    "    i += 1\n",
    "print(total)"
   ]
  },
  {
   "cell_type": "code",
   "execution_count": 18,
   "id": "20b00d89-84e8-42a5-825a-ec9bc884a371",
   "metadata": {},
   "outputs": [
    {
     "name": "stdout",
     "output_type": "stream",
     "text": [
      "1x1=1\t\n",
      "2x1=2\t2x2=4\t\n",
      "3x1=3\t3x2=6\t3x3=9\t\n",
      "4x1=4\t4x2=8\t4x3=12\t4x4=16\t\n",
      "5x1=5\t5x2=10\t5x3=15\t5x4=20\t5x5=25\t\n",
      "6x1=6\t6x2=12\t6x3=18\t6x4=24\t6x5=30\t6x6=36\t\n",
      "7x1=7\t7x2=14\t7x3=21\t7x4=28\t7x5=35\t7x6=42\t7x7=49\t\n",
      "8x1=8\t8x2=16\t8x3=24\t8x4=32\t8x5=40\t8x6=48\t8x7=56\t8x8=64\t\n",
      "9x1=9\t9x2=18\t9x3=27\t9x4=36\t9x5=45\t9x6=54\t9x7=63\t9x8=72\t9x9=81\t\n"
     ]
    }
   ],
   "source": [
    "# 打印乘法口诀表\n",
    "# 要求：通过嵌套循环结构 打印9x9乘法表\n",
    "\n",
    "for i in range(1,10):\n",
    "    for j in range(1,i+1):\n",
    "        print(f'{i}x{j}={j*i}',end='\\t')\n",
    "    print()"
   ]
  }
 ],
 "metadata": {
  "kernelspec": {
   "display_name": "Python 3 (ipykernel)",
   "language": "python",
   "name": "python3"
  },
  "language_info": {
   "codemirror_mode": {
    "name": "ipython",
    "version": 3
   },
   "file_extension": ".py",
   "mimetype": "text/x-python",
   "name": "python",
   "nbconvert_exporter": "python",
   "pygments_lexer": "ipython3",
   "version": "3.11.3"
  }
 },
 "nbformat": 4,
 "nbformat_minor": 5
}
