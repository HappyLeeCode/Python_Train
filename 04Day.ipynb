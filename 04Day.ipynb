{
 "cells": [
  {
   "cell_type": "code",
   "execution_count": 4,
   "id": "578bb23c-d03c-4b96-b876-48641af57f5f",
   "metadata": {},
   "outputs": [
    {
     "name": "stdout",
     "output_type": "stream",
     "text": [
      "0123456789abcdefghijklmnopqrstuvwxyzABCDEFGHIJKLMNOPQRSTUVWXYZ\n"
     ]
    }
   ],
   "source": [
    "# 写一个函数随机生成验证码，验证码由大小写字母和数字构成长度可以通过参数进行调整\n",
    "\n",
    "import random\n",
    "import string\n",
    "\n",
    "ALL_CHARS = string.digits + string.ascii_letters\n",
    "print(ALL_CHARS)"
   ]
  },
  {
   "cell_type": "code",
   "execution_count": 11,
   "id": "963e4c51-fea3-4ef6-bf22-2e2632454c96",
   "metadata": {},
   "outputs": [],
   "source": [
    "def gen_code(code_len = 4):\n",
    "    \"\"\"\n",
    "    生成指定长度的验证码\n",
    "    :param code_len:验证码的长度（默认为4）\n",
    "    :return: 由大小写英文字母和数字组成的随机验证码字符\n",
    "    :Author: Lee\n",
    "    :Version: V1.0.1\n",
    "    \"\"\"\n",
    "    return \"\".join(random.choices(ALL_CHARS, k=code_len))\n",
    "##  return \"+\".join(random.choices(ALL_CHARS, k=code_len))  字符之间用+号连接"
   ]
  },
  {
   "cell_type": "code",
   "execution_count": 12,
   "id": "bd0269eb-954f-4dbd-8fb5-59011fb173b4",
   "metadata": {},
   "outputs": [
    {
     "name": "stdout",
     "output_type": "stream",
     "text": [
      "bElS2\n",
      "IshLw\n",
      "q7LKi\n",
      "4X2EG\n",
      "QQJYc\n"
     ]
    }
   ],
   "source": [
    "# 无放回的取样 random.sample()\n",
    "# 有放回的取样 random.choices()\n",
    "for _ in range(5):\n",
    "    print(gen_code(5))"
   ]
  },
  {
   "cell_type": "code",
   "execution_count": 18,
   "id": "1f9af036-5d2b-4fb8-b91e-42134636b182",
   "metadata": {},
   "outputs": [],
   "source": [
    "# 判断一个数是不是质数(素数)\n",
    "def is_prime(num:int) -> bool:\n",
    "    \"\"\"\n",
    "    输入一个数，判断是否是素数\n",
    "    :param num:大于1的正整数\n",
    "    :return: 如果num是素数则返回True，反之返回False\n",
    "    :Author: Lee\n",
    "    :Version: V1.0.1\n",
    "    \"\"\"\n",
    "    for i in range(2, (int)(num**0.5)+1):\n",
    "        if num %i ==0:\n",
    "            return False\n",
    "    return True\n",
    " #   pass / TODO 可以告诉编辑器此函数还未实现"
   ]
  },
  {
   "cell_type": "code",
   "execution_count": 19,
   "id": "6070b052-8de5-4411-8f1d-e741ab5317f6",
   "metadata": {},
   "outputs": [
    {
     "name": "stdout",
     "output_type": "stream",
     "text": [
      "True\n"
     ]
    }
   ],
   "source": [
    "print(is_prime(13))"
   ]
  },
  {
   "cell_type": "code",
   "execution_count": 20,
   "id": "41d0609b-3f20-4904-92f8-1325eb3cc29b",
   "metadata": {},
   "outputs": [],
   "source": [
    "# 高阶函数\n",
    "# 累加器\n",
    "def calc(*args, **kwargs):\n",
    "    items = list(args)+list(kwargs.values())\n",
    "    result = 0\n",
    "    for item in items:\n",
    "        if type(item) in (int,float):\n",
    "            result += item\n",
    "    return result"
   ]
  },
  {
   "cell_type": "code",
   "execution_count": 21,
   "id": "ab986ccc-edb8-4389-a231-4a84f8c9e571",
   "metadata": {},
   "outputs": [],
   "source": [
    "# 累乘器\n",
    "def calc(*args, **kwargs):\n",
    "    items = list(args)+list(kwargs.values())\n",
    "    result = 0\n",
    "    for item in items:\n",
    "        if type(item) in (int,float):\n",
    "            result *= item\n",
    "    return result"
   ]
  },
  {
   "cell_type": "code",
   "execution_count": 28,
   "id": "04aaf4b9-39e0-4372-938c-b089b7c8f8b3",
   "metadata": {},
   "outputs": [],
   "source": [
    "# 同时实现累加和累成\n",
    "def add(x,y):\n",
    "    return x+y\n",
    "def mul(x,y):\n",
    "    return x*y\n",
    "\n",
    "def calc(init,op_func,*args,**kwargs):\n",
    "    items = list(args)+list(kwargs.values())\n",
    "    result = init\n",
    "    for item in items:\n",
    "        if type(item) in (int,float):\n",
    "            result = op_func(result,item)\n",
    "    return result"
   ]
  },
  {
   "cell_type": "code",
   "execution_count": 34,
   "id": "556ab411-a82a-42e9-8ca2-78d708a16c3f",
   "metadata": {},
   "outputs": [
    {
     "name": "stdout",
     "output_type": "stream",
     "text": [
      "6\n"
     ]
    }
   ],
   "source": [
    "print(calc(0, add, 1, 2, 3))"
   ]
  },
  {
   "cell_type": "code",
   "execution_count": 35,
   "id": "178a1080-d064-4945-9e06-7f07bd005f97",
   "metadata": {},
   "outputs": [
    {
     "name": "stdout",
     "output_type": "stream",
     "text": [
      "6\n"
     ]
    }
   ],
   "source": [
    "print(calc(1, mul, 1, 2, 3))"
   ]
  },
  {
   "cell_type": "code",
   "execution_count": 36,
   "id": "0b2be7a2-1d4f-4a61-8d66-252f73d4450c",
   "metadata": {},
   "outputs": [
    {
     "name": "stdout",
     "output_type": "stream",
     "text": [
      "3\n"
     ]
    }
   ],
   "source": [
    "print(add(1, 2))"
   ]
  },
  {
   "cell_type": "code",
   "execution_count": 32,
   "id": "f912624f-4089-4aea-88d1-14f3ce2ed651",
   "metadata": {},
   "outputs": [],
   "source": [
    "# 编写高阶函数，实现取余，整除，乘方，判断奇偶性的功能"
   ]
  },
  {
   "cell_type": "code",
   "execution_count": 86,
   "id": "6d7a142a-9988-4c0b-9f50-46be809b1c21",
   "metadata": {},
   "outputs": [],
   "source": [
    "# 取余\n",
    "def is_mod(x, y):\n",
    "    return x % y\n",
    "# 整除\n",
    "def is_div(x, y):\n",
    "    return x // y\n",
    "# 乘方\n",
    "def is_pow(x):\n",
    "    return x ** 2\n",
    "# 判断奇偶性\n",
    "def is_odd(x):\n",
    "    return x % 2 != 0\n",
    "def is_even(x):\n",
    "    return x % 2 == 0\n",
    "\n",
    "def oper(op_func, *args):\n",
    "    result = op_func(*args)\n",
    "    return result"
   ]
  },
  {
   "cell_type": "code",
   "execution_count": 87,
   "id": "23994f9d-9cdf-412d-96b4-b99b1b3ac073",
   "metadata": {},
   "outputs": [
    {
     "data": {
      "text/plain": [
       "0"
      ]
     },
     "execution_count": 87,
     "metadata": {},
     "output_type": "execute_result"
    }
   ],
   "source": [
    "oper(is_mod,2,1)"
   ]
  },
  {
   "cell_type": "code",
   "execution_count": 88,
   "id": "791e2557-ac6a-45aa-9cc1-294b3a8d41f8",
   "metadata": {},
   "outputs": [
    {
     "data": {
      "text/plain": [
       "2"
      ]
     },
     "execution_count": 88,
     "metadata": {},
     "output_type": "execute_result"
    }
   ],
   "source": [
    "oper(is_div,2,1)"
   ]
  },
  {
   "cell_type": "code",
   "execution_count": 89,
   "id": "a76c38c0-e3d5-47c4-ba36-32c8e8ed80da",
   "metadata": {},
   "outputs": [
    {
     "data": {
      "text/plain": [
       "4"
      ]
     },
     "execution_count": 89,
     "metadata": {},
     "output_type": "execute_result"
    }
   ],
   "source": [
    "oper(is_pow,2)"
   ]
  },
  {
   "cell_type": "code",
   "execution_count": 90,
   "id": "71d9fd0a-fb0e-44ff-80f4-7c7fcd9a20c0",
   "metadata": {},
   "outputs": [
    {
     "data": {
      "text/plain": [
       "False"
      ]
     },
     "execution_count": 90,
     "metadata": {},
     "output_type": "execute_result"
    }
   ],
   "source": [
    "oper(is_odd,2)"
   ]
  },
  {
   "cell_type": "code",
   "execution_count": 91,
   "id": "5b80a0a3-f81a-42c9-a4e2-da8c405c5ffa",
   "metadata": {},
   "outputs": [
    {
     "data": {
      "text/plain": [
       "True"
      ]
     },
     "execution_count": 91,
     "metadata": {},
     "output_type": "execute_result"
    }
   ],
   "source": [
    "oper(is_even,2)"
   ]
  },
  {
   "cell_type": "markdown",
   "id": "869a2c63-9400-4e1c-8c76-628ab7a8c994",
   "metadata": {},
   "source": [
    " - filter:[1,2,3,4,5,6,7,8,9]找到所有能被三整除的数[3,6,9]\n",
    "   \n",
    " - map:[3,6,9]求出该列表的乘方，组成新的列表[9,36,81]\n",
    "\n",
    " - reduce:[1,2,3,4,5]求出最后累加的和15"
   ]
  },
  {
   "cell_type": "code",
   "execution_count": 62,
   "id": "ca9b5c12-61aa-49df-ac8f-537f4742e2fb",
   "metadata": {},
   "outputs": [],
   "source": [
    "lists1 = range(10)\n",
    "\n",
    "def is_even(num):\n",
    "    return num % 2 == 0\n",
    "\n",
    "def squ(num):\n",
    "    return num **2"
   ]
  },
  {
   "cell_type": "code",
   "execution_count": 63,
   "id": "83ce92ae-fa80-404a-afd0-614095e59e19",
   "metadata": {},
   "outputs": [],
   "source": [
    "# filter\n",
    "new_lists = list(filter(is_even, lists1))\n",
    "new_lists1 = list(map(squ,filter(is_even, lists1)))"
   ]
  },
  {
   "cell_type": "code",
   "execution_count": 64,
   "id": "727aa922-d415-4a2f-be58-b54e289b8149",
   "metadata": {},
   "outputs": [
    {
     "name": "stdout",
     "output_type": "stream",
     "text": [
      "[0, 2, 4, 6, 8]\n",
      "[0, 4, 16, 36, 64]\n"
     ]
    }
   ],
   "source": [
    "print(new_lists)\n",
    "print(new_lists1)"
   ]
  },
  {
   "cell_type": "code",
   "execution_count": 67,
   "id": "0513d0a4-177a-4056-a087-9f1bf145f459",
   "metadata": {},
   "outputs": [
    {
     "name": "stdout",
     "output_type": "stream",
     "text": [
      "['n', 'zoo', 'something', 'goodsberry']\n"
     ]
    }
   ],
   "source": [
    "old_string = ['n', 'goodsberry', 'something', 'zoo']\n",
    "new_string = sorted(old_string,key = len)\n",
    "print(new_string)"
   ]
  },
  {
   "cell_type": "code",
   "execution_count": 70,
   "id": "1b105822-161e-4555-b44e-e9b02b29c87c",
   "metadata": {},
   "outputs": [],
   "source": [
    "# Lambda 函数\n",
    "old_nums =[35,12,8,9]\n",
    "new_nums = list(map(lambda x:x **2, filter(lambda x:x%2==0, old_nums)))"
   ]
  },
  {
   "cell_type": "code",
   "execution_count": 71,
   "id": "3c79931f-5f83-4a6a-af14-9a8d46ea5736",
   "metadata": {},
   "outputs": [
    {
     "name": "stdout",
     "output_type": "stream",
     "text": [
      "[144, 64]\n"
     ]
    }
   ],
   "source": [
    "print(new_nums)"
   ]
  },
  {
   "cell_type": "code",
   "execution_count": 76,
   "id": "7580bf8e-bb66-4e69-9e39-4a790a5cc56d",
   "metadata": {},
   "outputs": [
    {
     "name": "stdout",
     "output_type": "stream",
     "text": [
      "720\n"
     ]
    }
   ],
   "source": [
    "import functools\n",
    "import operator\n",
    "# 求阶乘的操作\n",
    "fac = lambda n: functools.reduce(operator.mul, range(2,n+1),1)\n",
    "print(fac(6))"
   ]
  },
  {
   "cell_type": "code",
   "execution_count": 78,
   "id": "8245ee2c-aced-469d-9a74-0ec353cc47e0",
   "metadata": {},
   "outputs": [
    {
     "name": "stdout",
     "output_type": "stream",
     "text": [
      "True\n"
     ]
    }
   ],
   "source": [
    "# 求素数的操作\n",
    "is_prime = lambda x: all(map(lambda f: x%f, range(2, int(x**0.5)+1)))\n",
    "print(is_prime(13))"
   ]
  },
  {
   "cell_type": "code",
   "execution_count": 92,
   "id": "b4bc4901-ea12-400c-9744-1e08a6e643e2",
   "metadata": {},
   "outputs": [
    {
     "data": {
      "text/plain": [
       "False"
      ]
     },
     "execution_count": 92,
     "metadata": {},
     "output_type": "execute_result"
    }
   ],
   "source": [
    "lists = [2,3,4,5,6,0]\n",
    "all(lists)"
   ]
  },
  {
   "cell_type": "code",
   "execution_count": 94,
   "id": "5ac68129-f55b-4ed8-9a41-3baee3e168c2",
   "metadata": {},
   "outputs": [
    {
     "name": "stdout",
     "output_type": "stream",
     "text": [
      "9\n",
      "513\n"
     ]
    }
   ],
   "source": [
    "# 偏函数\n",
    "int_2 = functools.partial(int, base=2)\n",
    "int_8 = functools.partial(int, base=8)\n",
    "\n",
    "print(int_2('1001'))\n",
    "print(int_8('1001'))"
   ]
  },
  {
   "cell_type": "code",
   "execution_count": 3,
   "id": "e499a763-695f-4836-817d-1549ea3610a1",
   "metadata": {},
   "outputs": [
    {
     "name": "stdout",
     "output_type": "stream",
     "text": [
      "文件开始下载\n",
      "python从入门到住院下载完成\n"
     ]
    }
   ],
   "source": [
    "# 装饰器\n",
    "\n",
    "import time\n",
    "def download(filename):\n",
    "    '''下载文件'''\n",
    "    print(\"文件开始下载\")\n",
    "    time.sleep(4)\n",
    "    print(f\"{filename}下载完成\")\n",
    "\n",
    "download(\"python从入门到住院\")"
   ]
  },
  {
   "cell_type": "code",
   "execution_count": 4,
   "id": "4adcf72d-a6de-45bf-bd5b-68f9c3290f87",
   "metadata": {},
   "outputs": [
    {
     "name": "stdout",
     "output_type": "stream",
     "text": [
      "文件开始上传\n",
      "mysql从删库到跑路上传完成\n"
     ]
    }
   ],
   "source": [
    "# 装饰器\n",
    "\n",
    "import time\n",
    "def upload(filename):\n",
    "    '''上传文件'''\n",
    "    print(\"文件开始上传\")\n",
    "    time.sleep(6)\n",
    "    print(f\"{filename}上传完成\")\n",
    "\n",
    "upload(\"mysql从删库到跑路\")"
   ]
  },
  {
   "cell_type": "code",
   "execution_count": 5,
   "id": "800f233d-102a-4698-aabe-a0d4b48f3317",
   "metadata": {},
   "outputs": [
    {
     "name": "stdout",
     "output_type": "stream",
     "text": [
      "文件开始下载\n",
      "python从入门到住院下载完成\n",
      "下载花费的时间是 4.00秒\n",
      "\n",
      "文件开始上传\n",
      "mysql从删库到跑路上传完成\n",
      "上传花费的时间是 6.00秒\n"
     ]
    }
   ],
   "source": [
    "start = time.time()\n",
    "download(\"python从入门到住院\")\n",
    "end = time.time()\n",
    "print(f'下载花费的时间是{end - start: .2f}秒')\n",
    "print()\n",
    "\n",
    "start = time.time()\n",
    "upload(\"mysql从删库到跑路\")\n",
    "end = time.time()\n",
    "print(f'上传花费的时间是{end - start: .2f}秒')"
   ]
  },
  {
   "cell_type": "code",
   "execution_count": 6,
   "id": "3fb64566-5056-4275-ad7b-215269311813",
   "metadata": {},
   "outputs": [],
   "source": [
    "def record_time(func):\n",
    "    def wrapper(*args,**kwargs):\n",
    "    # 在执行被装饰的函数之前开始记录时间\n",
    "        start = time.time()\n",
    "        #执行被装饰的函数并获得返回值\n",
    "        result = func(*args, **kwargs)\n",
    "        #在被装饰的函数执行结束之后记录时间\n",
    "        end = time.time()\n",
    "        #打印花费的时间\n",
    "        print(f'花费的时间是{end - start: .2f}秒')\n",
    "        #返回被装饰的函数的返回值\n",
    "        return result\n",
    "\n",
    "    return wrapper"
   ]
  },
  {
   "cell_type": "code",
   "execution_count": 7,
   "id": "6cd0cd1b-fda0-4079-bf0b-3a2b3ea80c0f",
   "metadata": {},
   "outputs": [
    {
     "name": "stdout",
     "output_type": "stream",
     "text": [
      "文件开始下载\n",
      "python从入门到住院下载完成\n",
      "花费的时间是 4.00秒\n"
     ]
    }
   ],
   "source": [
    "download = record_time(download)\n",
    "download(\"python从入门到住院\")"
   ]
  },
  {
   "cell_type": "code",
   "execution_count": 8,
   "id": "7c7f2340-b810-4e4a-be93-4a908df1c5e5",
   "metadata": {},
   "outputs": [],
   "source": [
    "@record_time\n",
    "def download(filename):\n",
    "    '''下载文件'''\n",
    "    print(\"文件开始下载\")\n",
    "    time.sleep(4)\n",
    "    print(f\"{filename}下载完成\")"
   ]
  },
  {
   "cell_type": "code",
   "execution_count": 9,
   "id": "c22a4330-c817-4609-8129-94d3bdea4463",
   "metadata": {},
   "outputs": [
    {
     "name": "stdout",
     "output_type": "stream",
     "text": [
      "文件开始下载\n",
      "python从入门到住院下载完成\n",
      "花费的时间是 4.00秒\n"
     ]
    }
   ],
   "source": [
    "download(\"python从入门到住院\")"
   ]
  },
  {
   "cell_type": "code",
   "execution_count": 27,
   "id": "f8c77813-b5fa-44d5-9e79-f551c168ba45",
   "metadata": {},
   "outputs": [],
   "source": [
    "# 面向对象编程\n",
    "\n",
    "class Student:\n",
    "    def __init__(self, name, age):\n",
    "        self.name = name\n",
    "        self.age = age\n",
    "        \n",
    "    def study(self, course_name):\n",
    "        print(f'{self.name}正在学习{course_name}')\n",
    "    def play(self):\n",
    "        print(f'{self.name}正在超神')"
   ]
  },
  {
   "cell_type": "code",
   "execution_count": 28,
   "id": "04c0e58e-0a87-49af-87d1-f312ab37fd7e",
   "metadata": {},
   "outputs": [
    {
     "name": "stdout",
     "output_type": "stream",
     "text": [
      "张三\n",
      "22\n"
     ]
    }
   ],
   "source": [
    "stu1 = Student(\"张三\", 22)\n",
    "print(stu1.name)\n",
    "print(stu1.age)"
   ]
  },
  {
   "cell_type": "code",
   "execution_count": 29,
   "id": "203d2c87-8d09-455d-aabd-129c8f81ec29",
   "metadata": {},
   "outputs": [
    {
     "name": "stdout",
     "output_type": "stream",
     "text": [
      "<__main__.Student object at 0x000002611F2E6350>\n"
     ]
    }
   ],
   "source": [
    "print(stu1)"
   ]
  },
  {
   "cell_type": "code",
   "execution_count": 30,
   "id": "43d4cafe-afec-4cc1-9e9c-151959850f33",
   "metadata": {},
   "outputs": [
    {
     "name": "stdout",
     "output_type": "stream",
     "text": [
      "张三正在超神\n"
     ]
    }
   ],
   "source": [
    "stu1.play()"
   ]
  },
  {
   "cell_type": "code",
   "execution_count": 31,
   "id": "2a1924a3-77ce-45ef-b6de-ece28b42ced9",
   "metadata": {},
   "outputs": [
    {
     "name": "stdout",
     "output_type": "stream",
     "text": [
      "张三正在学习信息论\n"
     ]
    }
   ],
   "source": [
    "stu1.study('信息论')"
   ]
  },
  {
   "cell_type": "code",
   "execution_count": 33,
   "id": "9daf0727-51b5-4578-b9d2-b0dc5874473a",
   "metadata": {},
   "outputs": [],
   "source": [
    "class PStudent:\n",
    "    def __init__(self, name, age):\n",
    "        self.__name = name\n",
    "        self.__age = age\n",
    "        \n",
    "    def study(self, course_name):\n",
    "        print(f'{self.__name}正在学习{course_name}')\n",
    "    def play(self):\n",
    "        print(f'{self.__name}正在超神')"
   ]
  },
  {
   "cell_type": "code",
   "execution_count": 35,
   "id": "7657df92-6e99-4c57-b95e-27b371269374",
   "metadata": {},
   "outputs": [
    {
     "name": "stdout",
     "output_type": "stream",
     "text": [
      "张三\n"
     ]
    }
   ],
   "source": [
    "stu2 = PStudent(\"张三\", 22)\n",
    "\n",
    "## print(stu2.__name)      ##不能直接访问\n",
    "print(stu2._PStudent__name)"
   ]
  },
  {
   "cell_type": "code",
   "execution_count": 36,
   "id": "86f21504-a0ec-444d-8a75-5b51650823fc",
   "metadata": {},
   "outputs": [],
   "source": [
    "stu2.gender = '新加的东西'"
   ]
  },
  {
   "cell_type": "code",
   "execution_count": 37,
   "id": "ad1b99d7-afb7-482f-9a25-d10a70f05ce6",
   "metadata": {},
   "outputs": [
    {
     "data": {
      "text/plain": [
       "'新加的东西'"
      ]
     },
     "execution_count": 37,
     "metadata": {},
     "output_type": "execute_result"
    }
   ],
   "source": [
    "stu2.gender"
   ]
  },
  {
   "cell_type": "code",
   "execution_count": null,
   "id": "068df602-8d7b-426b-9db1-b5bac0b1ab2b",
   "metadata": {},
   "outputs": [],
   "source": [
    "class T:\n",
    "    def __str__(self):\n",
    "        return '3'\n",
    "    def __repr__(self):\n",
    "        return '5'\n",
    "    def "
   ]
  },
  {
   "cell_type": "code",
   "execution_count": null,
   "id": "d85734bf-75a6-468d-b3c1-b00e8094bc03",
   "metadata": {},
   "outputs": [],
   "source": [
    "class Student:\n",
    "    def __init__(self, name, age, sco1, sco2, sco3):\n",
    "        self.name = name\n",
    "        self.age = age\n",
    "        score = (sco1+sco2+sco3)/3\n",
    "        self.score = score\n",
    "        \n",
    "    @staticmethod    \n",
    "    def study(course_name):\n",
    "        print(f'学生正在学习{course_name}')\n",
    "\n",
    "    @property\n",
    "    def play(self):\n",
    "        print(f'{self.__name}正在超神')"
   ]
  },
  {
   "cell_type": "code",
   "execution_count": 42,
   "id": "14fc55c6-7c07-4765-9f32-d255469f4af4",
   "metadata": {},
   "outputs": [],
   "source": [
    "# 继承\n",
    "class Person:\n",
    "    '''人'''\n",
    "    def __init__(self, name, age):\n",
    "        self.name = name\n",
    "        self.age = age\n",
    "    \n",
    "    def eat(self):\n",
    "        print(f'{self.name}正在吃东西')"
   ]
  },
  {
   "cell_type": "code",
   "execution_count": 44,
   "id": "cdbe803c-6b78-485d-9d63-acf9caa80e40",
   "metadata": {},
   "outputs": [],
   "source": [
    "class Stud(Person):\n",
    "    '''学生'''\n",
    "    def __init__(self, name, age):\n",
    "        super().__init__(name, age)\n",
    "\n",
    "    def study(self, course_name):\n",
    "        print(f'学生正在学习{course_name}')\n",
    "\n",
    "    def eat(self):\n",
    "        print(f'{self.name}去学生食堂吃东西')"
   ]
  },
  {
   "cell_type": "code",
   "execution_count": null,
   "id": "65133207-90ee-4e42-801e-2064c1e85a34",
   "metadata": {},
   "outputs": [],
   "source": []
  }
 ],
 "metadata": {
  "kernelspec": {
   "display_name": "Python 3 (ipykernel)",
   "language": "python",
   "name": "python3"
  },
  "language_info": {
   "codemirror_mode": {
    "name": "ipython",
    "version": 3
   },
   "file_extension": ".py",
   "mimetype": "text/x-python",
   "name": "python",
   "nbconvert_exporter": "python",
   "pygments_lexer": "ipython3",
   "version": "3.11.3"
  }
 },
 "nbformat": 4,
 "nbformat_minor": 5
}
