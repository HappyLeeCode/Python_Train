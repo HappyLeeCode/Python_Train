{
 "cells": [
  {
   "cell_type": "code",
   "execution_count": 36,
   "id": "6b93d22b-6180-4eb2-9101-4b7d12d21088",
   "metadata": {},
   "outputs": [],
   "source": [
    "# 05 DAY "
   ]
  },
  {
   "cell_type": "code",
   "execution_count": 37,
   "id": "1520b709-ed7e-48b2-85b3-591d7010fede",
   "metadata": {},
   "outputs": [],
   "source": [
    "# 1 复习高阶函数：将函数作为参数进行传递的函数"
   ]
  },
  {
   "cell_type": "markdown",
   "id": "f73ddeb4-fe6c-46ed-a0d7-e8e303e35d4f",
   "metadata": {},
   "source": [
    "某公司有三种类型的员工，分别是:\n",
    "\n",
    "- 部门经理\n",
    "- 程序员\n",
    "- 销售\n",
    "\n",
    "设计一个工资结算系统，根据提供的员工信息来计算员工的月薪，其中:\n",
    "\n",
    "- 部门经理:固定15000元\n",
    "- 程序员:按小时结算，每小时200\n",
    "- 销售:1800底薪加上销售额5%的分成"
   ]
  },
  {
   "cell_type": "code",
   "execution_count": 40,
   "id": "5a4bdd7e-374f-4ad9-8b94-9c1c459dc7b7",
   "metadata": {},
   "outputs": [],
   "source": [
    "# 三种员工(包含三个类)\n",
    "# 可能有一个员工类作为三种员工的父类 (或者接口，或者抽象类)\n",
    "\n",
    "# 在员工父类里，存在一个计算工资的方法\n",
    "# 子类，需要对薪资方法进行重写\n",
    "\n",
    "# 员工类，不需要被实例化，可以用接口类，或者抽象类\n"
   ]
  },
  {
   "cell_type": "code",
   "execution_count": 41,
   "id": "c24391da-1de6-43ea-936e-29b54f525771",
   "metadata": {},
   "outputs": [],
   "source": [
    "from abc import ABCMeta, abstractmethod"
   ]
  },
  {
   "cell_type": "code",
   "execution_count": 42,
   "id": "f5962599-990e-43e7-bace-f3afa22b0e3a",
   "metadata": {},
   "outputs": [],
   "source": [
    "class Employee(metaclass=ABCMeta):\n",
    "    '''\n",
    "    员工类，用于规定基本的工资方法函数\n",
    "    '''\n",
    "    def __init__(self, name):\n",
    "        self.name = name\n",
    "\n",
    "    @abstractmethod\n",
    "    def get_salary(self):\n",
    "        '''结算月薪'''\n",
    "        pass"
   ]
  },
  {
   "cell_type": "code",
   "execution_count": 43,
   "id": "d0e74ade-84fc-4e3b-9e2c-efe4c37de023",
   "metadata": {},
   "outputs": [],
   "source": [
    "class Manager(Employee):\n",
    "    '''\n",
    "    部门经理类\n",
    "    '''\n",
    "    def get_salary(self):\n",
    "        return 15000"
   ]
  },
  {
   "cell_type": "code",
   "execution_count": 44,
   "id": "ffd80429-c28d-451f-8e71-0eef6d3aeabe",
   "metadata": {},
   "outputs": [],
   "source": [
    "class Programmer(Employee):\n",
    "    '''\n",
    "    程序员类\n",
    "    '''\n",
    "    def __init__(self, name, work_time):\n",
    "        super().__init__(name)\n",
    "        self.work_time = work_time\n",
    "\n",
    "    def get_salary(self):\n",
    "        return self.work_time*200"
   ]
  },
  {
   "cell_type": "code",
   "execution_count": 45,
   "id": "01766bad-c554-4cbd-aedc-58c61449f741",
   "metadata": {},
   "outputs": [],
   "source": [
    "class Salesman(Employee):\n",
    "    '''\n",
    "    销售类\n",
    "    '''\n",
    "    def __init__(self, name, sales=0):\n",
    "        super().__init__(name)\n",
    "        self.sales = sales\n",
    "\n",
    "    def get_salary(self):\n",
    "        return 1800 + self.sales*0.05"
   ]
  },
  {
   "cell_type": "code",
   "execution_count": 46,
   "id": "87e2e29d-2a8b-435b-b538-af9e4b5860c3",
   "metadata": {},
   "outputs": [],
   "source": [
    "emp1 = Programmer('程序员1',10)"
   ]
  },
  {
   "cell_type": "code",
   "execution_count": 47,
   "id": "90727498-c356-42fe-992d-9f6c209f7147",
   "metadata": {},
   "outputs": [],
   "source": [
    "emp2 = Salesman('销售员1',10)"
   ]
  },
  {
   "cell_type": "code",
   "execution_count": 48,
   "id": "e7843fd2-b96e-4c8c-af7d-d9c3169e282b",
   "metadata": {},
   "outputs": [],
   "source": [
    "emp3 = Manager('经理')"
   ]
  },
  {
   "cell_type": "code",
   "execution_count": 49,
   "id": "34abcd17-e1cf-45f5-b808-31f2015f9e54",
   "metadata": {},
   "outputs": [
    {
     "data": {
      "text/plain": [
       "1800.5"
      ]
     },
     "execution_count": 49,
     "metadata": {},
     "output_type": "execute_result"
    }
   ],
   "source": [
    "emp2.get_salary()"
   ]
  },
  {
   "cell_type": "code",
   "execution_count": 50,
   "id": "6cbbee85-c5d0-408e-ac68-3e1256ed7b88",
   "metadata": {},
   "outputs": [
    {
     "data": {
      "text/plain": [
       "2000"
      ]
     },
     "execution_count": 50,
     "metadata": {},
     "output_type": "execute_result"
    }
   ],
   "source": [
    "emp1.get_salary()"
   ]
  }
 ],
 "metadata": {
  "kernelspec": {
   "display_name": "Python 3 (ipykernel)",
   "language": "python",
   "name": "python3"
  },
  "language_info": {
   "codemirror_mode": {
    "name": "ipython",
    "version": 3
   },
   "file_extension": ".py",
   "mimetype": "text/x-python",
   "name": "python",
   "nbconvert_exporter": "python",
   "pygments_lexer": "ipython3",
   "version": "3.11.3"
  }
 },
 "nbformat": 4,
 "nbformat_minor": 5
}
